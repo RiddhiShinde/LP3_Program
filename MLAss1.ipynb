{
  "nbformat": 4,
  "nbformat_minor": 0,
  "metadata": {
    "colab": {
      "provenance": [],
      "authorship_tag": "ABX9TyO2K8ImCBL8cFtUtLI0qoQH",
      "include_colab_link": true
    },
    "kernelspec": {
      "name": "python3",
      "display_name": "Python 3"
    },
    "language_info": {
      "name": "python"
    }
  },
  "cells": [
    {
      "cell_type": "markdown",
      "metadata": {
        "id": "view-in-github",
        "colab_type": "text"
      },
      "source": [
        "<a href=\"https://colab.research.google.com/github/RiddhiShinde/LP2_Program/blob/main/MLAss1.ipynb\" target=\"_parent\"><img src=\"https://colab.research.google.com/assets/colab-badge.svg\" alt=\"Open In Colab\"/></a>"
      ]
    },
    {
      "cell_type": "code",
      "execution_count": 162,
      "metadata": {
        "id": "AJr0WM3XBNkY"
      },
      "outputs": [],
      "source": [
        "import pandas as pd\n",
        "import numpy as np\n"
      ]
    },
    {
      "cell_type": "code",
      "source": [
        "path='https://raw.githubusercontent.com/afnan47/sem7/main/ML/1.%20Uber%20Price%20Detection/uber.csv'\n",
        "df= pd.read_csv(path)"
      ],
      "metadata": {
        "id": "CBSzniR0C_N5"
      },
      "execution_count": 163,
      "outputs": []
    },
    {
      "cell_type": "code",
      "source": [
        "df"
      ],
      "metadata": {
        "colab": {
          "base_uri": "https://localhost:8080/",
          "height": 659
        },
        "id": "V2xTfT92DSEg",
        "outputId": "39515f7f-a126-478f-941e-a4d5843bd12d"
      },
      "execution_count": 164,
      "outputs": [
        {
          "output_type": "execute_result",
          "data": {
            "text/plain": [
              "        Unnamed: 0                            key  fare_amount  \\\n",
              "0         24238194    2015-05-07 19:52:06.0000003          7.5   \n",
              "1         27835199    2009-07-17 20:04:56.0000002          7.7   \n",
              "2         44984355   2009-08-24 21:45:00.00000061         12.9   \n",
              "3         25894730    2009-06-26 08:22:21.0000001          5.3   \n",
              "4         17610152  2014-08-28 17:47:00.000000188         16.0   \n",
              "...            ...                            ...          ...   \n",
              "199995    42598914   2012-10-28 10:49:00.00000053          3.0   \n",
              "199996    16382965    2014-03-14 01:09:00.0000008          7.5   \n",
              "199997    27804658   2009-06-29 00:42:00.00000078         30.9   \n",
              "199998    20259894    2015-05-20 14:56:25.0000004         14.5   \n",
              "199999    11951496   2010-05-15 04:08:00.00000076         14.1   \n",
              "\n",
              "                pickup_datetime  pickup_longitude  pickup_latitude  \\\n",
              "0       2015-05-07 19:52:06 UTC        -73.999817        40.738354   \n",
              "1       2009-07-17 20:04:56 UTC        -73.994355        40.728225   \n",
              "2       2009-08-24 21:45:00 UTC        -74.005043        40.740770   \n",
              "3       2009-06-26 08:22:21 UTC        -73.976124        40.790844   \n",
              "4       2014-08-28 17:47:00 UTC        -73.925023        40.744085   \n",
              "...                         ...               ...              ...   \n",
              "199995  2012-10-28 10:49:00 UTC        -73.987042        40.739367   \n",
              "199996  2014-03-14 01:09:00 UTC        -73.984722        40.736837   \n",
              "199997  2009-06-29 00:42:00 UTC        -73.986017        40.756487   \n",
              "199998  2015-05-20 14:56:25 UTC        -73.997124        40.725452   \n",
              "199999  2010-05-15 04:08:00 UTC        -73.984395        40.720077   \n",
              "\n",
              "        dropoff_longitude  dropoff_latitude  passenger_count  \n",
              "0              -73.999512         40.723217                1  \n",
              "1              -73.994710         40.750325                1  \n",
              "2              -73.962565         40.772647                1  \n",
              "3              -73.965316         40.803349                3  \n",
              "4              -73.973082         40.761247                5  \n",
              "...                   ...               ...              ...  \n",
              "199995         -73.986525         40.740297                1  \n",
              "199996         -74.006672         40.739620                1  \n",
              "199997         -73.858957         40.692588                2  \n",
              "199998         -73.983215         40.695415                1  \n",
              "199999         -73.985508         40.768793                1  \n",
              "\n",
              "[200000 rows x 9 columns]"
            ],
            "text/html": [
              "\n",
              "  <div id=\"df-359676bd-02c0-4902-b392-fce0a55134cf\">\n",
              "    <div class=\"colab-df-container\">\n",
              "      <div>\n",
              "<style scoped>\n",
              "    .dataframe tbody tr th:only-of-type {\n",
              "        vertical-align: middle;\n",
              "    }\n",
              "\n",
              "    .dataframe tbody tr th {\n",
              "        vertical-align: top;\n",
              "    }\n",
              "\n",
              "    .dataframe thead th {\n",
              "        text-align: right;\n",
              "    }\n",
              "</style>\n",
              "<table border=\"1\" class=\"dataframe\">\n",
              "  <thead>\n",
              "    <tr style=\"text-align: right;\">\n",
              "      <th></th>\n",
              "      <th>Unnamed: 0</th>\n",
              "      <th>key</th>\n",
              "      <th>fare_amount</th>\n",
              "      <th>pickup_datetime</th>\n",
              "      <th>pickup_longitude</th>\n",
              "      <th>pickup_latitude</th>\n",
              "      <th>dropoff_longitude</th>\n",
              "      <th>dropoff_latitude</th>\n",
              "      <th>passenger_count</th>\n",
              "    </tr>\n",
              "  </thead>\n",
              "  <tbody>\n",
              "    <tr>\n",
              "      <th>0</th>\n",
              "      <td>24238194</td>\n",
              "      <td>2015-05-07 19:52:06.0000003</td>\n",
              "      <td>7.5</td>\n",
              "      <td>2015-05-07 19:52:06 UTC</td>\n",
              "      <td>-73.999817</td>\n",
              "      <td>40.738354</td>\n",
              "      <td>-73.999512</td>\n",
              "      <td>40.723217</td>\n",
              "      <td>1</td>\n",
              "    </tr>\n",
              "    <tr>\n",
              "      <th>1</th>\n",
              "      <td>27835199</td>\n",
              "      <td>2009-07-17 20:04:56.0000002</td>\n",
              "      <td>7.7</td>\n",
              "      <td>2009-07-17 20:04:56 UTC</td>\n",
              "      <td>-73.994355</td>\n",
              "      <td>40.728225</td>\n",
              "      <td>-73.994710</td>\n",
              "      <td>40.750325</td>\n",
              "      <td>1</td>\n",
              "    </tr>\n",
              "    <tr>\n",
              "      <th>2</th>\n",
              "      <td>44984355</td>\n",
              "      <td>2009-08-24 21:45:00.00000061</td>\n",
              "      <td>12.9</td>\n",
              "      <td>2009-08-24 21:45:00 UTC</td>\n",
              "      <td>-74.005043</td>\n",
              "      <td>40.740770</td>\n",
              "      <td>-73.962565</td>\n",
              "      <td>40.772647</td>\n",
              "      <td>1</td>\n",
              "    </tr>\n",
              "    <tr>\n",
              "      <th>3</th>\n",
              "      <td>25894730</td>\n",
              "      <td>2009-06-26 08:22:21.0000001</td>\n",
              "      <td>5.3</td>\n",
              "      <td>2009-06-26 08:22:21 UTC</td>\n",
              "      <td>-73.976124</td>\n",
              "      <td>40.790844</td>\n",
              "      <td>-73.965316</td>\n",
              "      <td>40.803349</td>\n",
              "      <td>3</td>\n",
              "    </tr>\n",
              "    <tr>\n",
              "      <th>4</th>\n",
              "      <td>17610152</td>\n",
              "      <td>2014-08-28 17:47:00.000000188</td>\n",
              "      <td>16.0</td>\n",
              "      <td>2014-08-28 17:47:00 UTC</td>\n",
              "      <td>-73.925023</td>\n",
              "      <td>40.744085</td>\n",
              "      <td>-73.973082</td>\n",
              "      <td>40.761247</td>\n",
              "      <td>5</td>\n",
              "    </tr>\n",
              "    <tr>\n",
              "      <th>...</th>\n",
              "      <td>...</td>\n",
              "      <td>...</td>\n",
              "      <td>...</td>\n",
              "      <td>...</td>\n",
              "      <td>...</td>\n",
              "      <td>...</td>\n",
              "      <td>...</td>\n",
              "      <td>...</td>\n",
              "      <td>...</td>\n",
              "    </tr>\n",
              "    <tr>\n",
              "      <th>199995</th>\n",
              "      <td>42598914</td>\n",
              "      <td>2012-10-28 10:49:00.00000053</td>\n",
              "      <td>3.0</td>\n",
              "      <td>2012-10-28 10:49:00 UTC</td>\n",
              "      <td>-73.987042</td>\n",
              "      <td>40.739367</td>\n",
              "      <td>-73.986525</td>\n",
              "      <td>40.740297</td>\n",
              "      <td>1</td>\n",
              "    </tr>\n",
              "    <tr>\n",
              "      <th>199996</th>\n",
              "      <td>16382965</td>\n",
              "      <td>2014-03-14 01:09:00.0000008</td>\n",
              "      <td>7.5</td>\n",
              "      <td>2014-03-14 01:09:00 UTC</td>\n",
              "      <td>-73.984722</td>\n",
              "      <td>40.736837</td>\n",
              "      <td>-74.006672</td>\n",
              "      <td>40.739620</td>\n",
              "      <td>1</td>\n",
              "    </tr>\n",
              "    <tr>\n",
              "      <th>199997</th>\n",
              "      <td>27804658</td>\n",
              "      <td>2009-06-29 00:42:00.00000078</td>\n",
              "      <td>30.9</td>\n",
              "      <td>2009-06-29 00:42:00 UTC</td>\n",
              "      <td>-73.986017</td>\n",
              "      <td>40.756487</td>\n",
              "      <td>-73.858957</td>\n",
              "      <td>40.692588</td>\n",
              "      <td>2</td>\n",
              "    </tr>\n",
              "    <tr>\n",
              "      <th>199998</th>\n",
              "      <td>20259894</td>\n",
              "      <td>2015-05-20 14:56:25.0000004</td>\n",
              "      <td>14.5</td>\n",
              "      <td>2015-05-20 14:56:25 UTC</td>\n",
              "      <td>-73.997124</td>\n",
              "      <td>40.725452</td>\n",
              "      <td>-73.983215</td>\n",
              "      <td>40.695415</td>\n",
              "      <td>1</td>\n",
              "    </tr>\n",
              "    <tr>\n",
              "      <th>199999</th>\n",
              "      <td>11951496</td>\n",
              "      <td>2010-05-15 04:08:00.00000076</td>\n",
              "      <td>14.1</td>\n",
              "      <td>2010-05-15 04:08:00 UTC</td>\n",
              "      <td>-73.984395</td>\n",
              "      <td>40.720077</td>\n",
              "      <td>-73.985508</td>\n",
              "      <td>40.768793</td>\n",
              "      <td>1</td>\n",
              "    </tr>\n",
              "  </tbody>\n",
              "</table>\n",
              "<p>200000 rows × 9 columns</p>\n",
              "</div>\n",
              "      <button class=\"colab-df-convert\" onclick=\"convertToInteractive('df-359676bd-02c0-4902-b392-fce0a55134cf')\"\n",
              "              title=\"Convert this dataframe to an interactive table.\"\n",
              "              style=\"display:none;\">\n",
              "        \n",
              "  <svg xmlns=\"http://www.w3.org/2000/svg\" height=\"24px\"viewBox=\"0 0 24 24\"\n",
              "       width=\"24px\">\n",
              "    <path d=\"M0 0h24v24H0V0z\" fill=\"none\"/>\n",
              "    <path d=\"M18.56 5.44l.94 2.06.94-2.06 2.06-.94-2.06-.94-.94-2.06-.94 2.06-2.06.94zm-11 1L8.5 8.5l.94-2.06 2.06-.94-2.06-.94L8.5 2.5l-.94 2.06-2.06.94zm10 10l.94 2.06.94-2.06 2.06-.94-2.06-.94-.94-2.06-.94 2.06-2.06.94z\"/><path d=\"M17.41 7.96l-1.37-1.37c-.4-.4-.92-.59-1.43-.59-.52 0-1.04.2-1.43.59L10.3 9.45l-7.72 7.72c-.78.78-.78 2.05 0 2.83L4 21.41c.39.39.9.59 1.41.59.51 0 1.02-.2 1.41-.59l7.78-7.78 2.81-2.81c.8-.78.8-2.07 0-2.86zM5.41 20L4 18.59l7.72-7.72 1.47 1.35L5.41 20z\"/>\n",
              "  </svg>\n",
              "      </button>\n",
              "      \n",
              "  <style>\n",
              "    .colab-df-container {\n",
              "      display:flex;\n",
              "      flex-wrap:wrap;\n",
              "      gap: 12px;\n",
              "    }\n",
              "\n",
              "    .colab-df-convert {\n",
              "      background-color: #E8F0FE;\n",
              "      border: none;\n",
              "      border-radius: 50%;\n",
              "      cursor: pointer;\n",
              "      display: none;\n",
              "      fill: #1967D2;\n",
              "      height: 32px;\n",
              "      padding: 0 0 0 0;\n",
              "      width: 32px;\n",
              "    }\n",
              "\n",
              "    .colab-df-convert:hover {\n",
              "      background-color: #E2EBFA;\n",
              "      box-shadow: 0px 1px 2px rgba(60, 64, 67, 0.3), 0px 1px 3px 1px rgba(60, 64, 67, 0.15);\n",
              "      fill: #174EA6;\n",
              "    }\n",
              "\n",
              "    [theme=dark] .colab-df-convert {\n",
              "      background-color: #3B4455;\n",
              "      fill: #D2E3FC;\n",
              "    }\n",
              "\n",
              "    [theme=dark] .colab-df-convert:hover {\n",
              "      background-color: #434B5C;\n",
              "      box-shadow: 0px 1px 3px 1px rgba(0, 0, 0, 0.15);\n",
              "      filter: drop-shadow(0px 1px 2px rgba(0, 0, 0, 0.3));\n",
              "      fill: #FFFFFF;\n",
              "    }\n",
              "  </style>\n",
              "\n",
              "      <script>\n",
              "        const buttonEl =\n",
              "          document.querySelector('#df-359676bd-02c0-4902-b392-fce0a55134cf button.colab-df-convert');\n",
              "        buttonEl.style.display =\n",
              "          google.colab.kernel.accessAllowed ? 'block' : 'none';\n",
              "\n",
              "        async function convertToInteractive(key) {\n",
              "          const element = document.querySelector('#df-359676bd-02c0-4902-b392-fce0a55134cf');\n",
              "          const dataTable =\n",
              "            await google.colab.kernel.invokeFunction('convertToInteractive',\n",
              "                                                     [key], {});\n",
              "          if (!dataTable) return;\n",
              "\n",
              "          const docLinkHtml = 'Like what you see? Visit the ' +\n",
              "            '<a target=\"_blank\" href=https://colab.research.google.com/notebooks/data_table.ipynb>data table notebook</a>'\n",
              "            + ' to learn more about interactive tables.';\n",
              "          element.innerHTML = '';\n",
              "          dataTable['output_type'] = 'display_data';\n",
              "          await google.colab.output.renderOutput(dataTable, element);\n",
              "          const docLink = document.createElement('div');\n",
              "          docLink.innerHTML = docLinkHtml;\n",
              "          element.appendChild(docLink);\n",
              "        }\n",
              "      </script>\n",
              "    </div>\n",
              "  </div>\n",
              "  "
            ]
          },
          "metadata": {},
          "execution_count": 164
        }
      ]
    },
    {
      "cell_type": "code",
      "source": [
        "df.head"
      ],
      "metadata": {
        "colab": {
          "base_uri": "https://localhost:8080/"
        },
        "id": "AbAVE_TCGT-G",
        "outputId": "3fd8fc0c-9553-458d-cda8-18867f931ac0"
      },
      "execution_count": 165,
      "outputs": [
        {
          "output_type": "execute_result",
          "data": {
            "text/plain": [
              "<bound method NDFrame.head of         Unnamed: 0                            key  fare_amount  \\\n",
              "0         24238194    2015-05-07 19:52:06.0000003          7.5   \n",
              "1         27835199    2009-07-17 20:04:56.0000002          7.7   \n",
              "2         44984355   2009-08-24 21:45:00.00000061         12.9   \n",
              "3         25894730    2009-06-26 08:22:21.0000001          5.3   \n",
              "4         17610152  2014-08-28 17:47:00.000000188         16.0   \n",
              "...            ...                            ...          ...   \n",
              "199995    42598914   2012-10-28 10:49:00.00000053          3.0   \n",
              "199996    16382965    2014-03-14 01:09:00.0000008          7.5   \n",
              "199997    27804658   2009-06-29 00:42:00.00000078         30.9   \n",
              "199998    20259894    2015-05-20 14:56:25.0000004         14.5   \n",
              "199999    11951496   2010-05-15 04:08:00.00000076         14.1   \n",
              "\n",
              "                pickup_datetime  pickup_longitude  pickup_latitude  \\\n",
              "0       2015-05-07 19:52:06 UTC        -73.999817        40.738354   \n",
              "1       2009-07-17 20:04:56 UTC        -73.994355        40.728225   \n",
              "2       2009-08-24 21:45:00 UTC        -74.005043        40.740770   \n",
              "3       2009-06-26 08:22:21 UTC        -73.976124        40.790844   \n",
              "4       2014-08-28 17:47:00 UTC        -73.925023        40.744085   \n",
              "...                         ...               ...              ...   \n",
              "199995  2012-10-28 10:49:00 UTC        -73.987042        40.739367   \n",
              "199996  2014-03-14 01:09:00 UTC        -73.984722        40.736837   \n",
              "199997  2009-06-29 00:42:00 UTC        -73.986017        40.756487   \n",
              "199998  2015-05-20 14:56:25 UTC        -73.997124        40.725452   \n",
              "199999  2010-05-15 04:08:00 UTC        -73.984395        40.720077   \n",
              "\n",
              "        dropoff_longitude  dropoff_latitude  passenger_count  \n",
              "0              -73.999512         40.723217                1  \n",
              "1              -73.994710         40.750325                1  \n",
              "2              -73.962565         40.772647                1  \n",
              "3              -73.965316         40.803349                3  \n",
              "4              -73.973082         40.761247                5  \n",
              "...                   ...               ...              ...  \n",
              "199995         -73.986525         40.740297                1  \n",
              "199996         -74.006672         40.739620                1  \n",
              "199997         -73.858957         40.692588                2  \n",
              "199998         -73.983215         40.695415                1  \n",
              "199999         -73.985508         40.768793                1  \n",
              "\n",
              "[200000 rows x 9 columns]>"
            ]
          },
          "metadata": {},
          "execution_count": 165
        }
      ]
    },
    {
      "cell_type": "code",
      "source": [
        "df=df.drop(columns=['Unnamed: 0','key'])"
      ],
      "metadata": {
        "id": "JDO95JxlIBDM"
      },
      "execution_count": 166,
      "outputs": []
    },
    {
      "cell_type": "code",
      "source": [
        "df.describe"
      ],
      "metadata": {
        "colab": {
          "base_uri": "https://localhost:8080/"
        },
        "id": "QM0fCUuqIcOr",
        "outputId": "4163b5c8-f356-47c8-e765-8e1b16131a1f"
      },
      "execution_count": 167,
      "outputs": [
        {
          "output_type": "execute_result",
          "data": {
            "text/plain": [
              "<bound method NDFrame.describe of         fare_amount          pickup_datetime  pickup_longitude  \\\n",
              "0               7.5  2015-05-07 19:52:06 UTC        -73.999817   \n",
              "1               7.7  2009-07-17 20:04:56 UTC        -73.994355   \n",
              "2              12.9  2009-08-24 21:45:00 UTC        -74.005043   \n",
              "3               5.3  2009-06-26 08:22:21 UTC        -73.976124   \n",
              "4              16.0  2014-08-28 17:47:00 UTC        -73.925023   \n",
              "...             ...                      ...               ...   \n",
              "199995          3.0  2012-10-28 10:49:00 UTC        -73.987042   \n",
              "199996          7.5  2014-03-14 01:09:00 UTC        -73.984722   \n",
              "199997         30.9  2009-06-29 00:42:00 UTC        -73.986017   \n",
              "199998         14.5  2015-05-20 14:56:25 UTC        -73.997124   \n",
              "199999         14.1  2010-05-15 04:08:00 UTC        -73.984395   \n",
              "\n",
              "        pickup_latitude  dropoff_longitude  dropoff_latitude  passenger_count  \n",
              "0             40.738354         -73.999512         40.723217                1  \n",
              "1             40.728225         -73.994710         40.750325                1  \n",
              "2             40.740770         -73.962565         40.772647                1  \n",
              "3             40.790844         -73.965316         40.803349                3  \n",
              "4             40.744085         -73.973082         40.761247                5  \n",
              "...                 ...                ...               ...              ...  \n",
              "199995        40.739367         -73.986525         40.740297                1  \n",
              "199996        40.736837         -74.006672         40.739620                1  \n",
              "199997        40.756487         -73.858957         40.692588                2  \n",
              "199998        40.725452         -73.983215         40.695415                1  \n",
              "199999        40.720077         -73.985508         40.768793                1  \n",
              "\n",
              "[200000 rows x 7 columns]>"
            ]
          },
          "metadata": {},
          "execution_count": 167
        }
      ]
    },
    {
      "cell_type": "code",
      "source": [
        "df.isnull().sum()"
      ],
      "metadata": {
        "colab": {
          "base_uri": "https://localhost:8080/"
        },
        "id": "_Xf3LCMRJVCC",
        "outputId": "0cb6ca0d-8bbd-497c-f321-ffa422feb656"
      },
      "execution_count": 168,
      "outputs": [
        {
          "output_type": "execute_result",
          "data": {
            "text/plain": [
              "fare_amount          0\n",
              "pickup_datetime      0\n",
              "pickup_longitude     0\n",
              "pickup_latitude      0\n",
              "dropoff_longitude    1\n",
              "dropoff_latitude     1\n",
              "passenger_count      0\n",
              "dtype: int64"
            ]
          },
          "metadata": {},
          "execution_count": 168
        }
      ]
    },
    {
      "cell_type": "code",
      "source": [
        "df.dtypes"
      ],
      "metadata": {
        "colab": {
          "base_uri": "https://localhost:8080/"
        },
        "id": "v6FcQPsBKUuX",
        "outputId": "5effb797-c9be-4f7b-ca37-4c340ff2e5ea"
      },
      "execution_count": 169,
      "outputs": [
        {
          "output_type": "execute_result",
          "data": {
            "text/plain": [
              "fare_amount          float64\n",
              "pickup_datetime       object\n",
              "pickup_longitude     float64\n",
              "pickup_latitude      float64\n",
              "dropoff_longitude    float64\n",
              "dropoff_latitude     float64\n",
              "passenger_count        int64\n",
              "dtype: object"
            ]
          },
          "metadata": {},
          "execution_count": 169
        }
      ]
    },
    {
      "cell_type": "code",
      "source": [
        "df['pickup_datetime']=pd.to_datetime(df['pickup_datetime'])"
      ],
      "metadata": {
        "id": "yXGwGBS4KgrZ"
      },
      "execution_count": 170,
      "outputs": []
    },
    {
      "cell_type": "code",
      "source": [
        "df.describe()"
      ],
      "metadata": {
        "colab": {
          "base_uri": "https://localhost:8080/",
          "height": 300
        },
        "id": "dWR9RVP8Kx58",
        "outputId": "e3a4edab-0567-448d-98d5-92f8d1b57f92"
      },
      "execution_count": 171,
      "outputs": [
        {
          "output_type": "execute_result",
          "data": {
            "text/plain": [
              "         fare_amount  pickup_longitude  pickup_latitude  dropoff_longitude  \\\n",
              "count  200000.000000     200000.000000    200000.000000      199999.000000   \n",
              "mean       11.359955        -72.527638        39.935885         -72.525292   \n",
              "std         9.901776         11.437787         7.720539          13.117408   \n",
              "min       -52.000000      -1340.648410       -74.015515       -3356.666300   \n",
              "25%         6.000000        -73.992065        40.734796         -73.991407   \n",
              "50%         8.500000        -73.981823        40.752592         -73.980093   \n",
              "75%        12.500000        -73.967154        40.767158         -73.963658   \n",
              "max       499.000000         57.418457      1644.421482        1153.572603   \n",
              "\n",
              "       dropoff_latitude  passenger_count  \n",
              "count     199999.000000    200000.000000  \n",
              "mean          39.923890         1.684535  \n",
              "std            6.794829         1.385997  \n",
              "min         -881.985513         0.000000  \n",
              "25%           40.733823         1.000000  \n",
              "50%           40.753042         1.000000  \n",
              "75%           40.768001         2.000000  \n",
              "max          872.697628       208.000000  "
            ],
            "text/html": [
              "\n",
              "  <div id=\"df-ada62477-6225-41d4-bd0f-6961f271ebb5\">\n",
              "    <div class=\"colab-df-container\">\n",
              "      <div>\n",
              "<style scoped>\n",
              "    .dataframe tbody tr th:only-of-type {\n",
              "        vertical-align: middle;\n",
              "    }\n",
              "\n",
              "    .dataframe tbody tr th {\n",
              "        vertical-align: top;\n",
              "    }\n",
              "\n",
              "    .dataframe thead th {\n",
              "        text-align: right;\n",
              "    }\n",
              "</style>\n",
              "<table border=\"1\" class=\"dataframe\">\n",
              "  <thead>\n",
              "    <tr style=\"text-align: right;\">\n",
              "      <th></th>\n",
              "      <th>fare_amount</th>\n",
              "      <th>pickup_longitude</th>\n",
              "      <th>pickup_latitude</th>\n",
              "      <th>dropoff_longitude</th>\n",
              "      <th>dropoff_latitude</th>\n",
              "      <th>passenger_count</th>\n",
              "    </tr>\n",
              "  </thead>\n",
              "  <tbody>\n",
              "    <tr>\n",
              "      <th>count</th>\n",
              "      <td>200000.000000</td>\n",
              "      <td>200000.000000</td>\n",
              "      <td>200000.000000</td>\n",
              "      <td>199999.000000</td>\n",
              "      <td>199999.000000</td>\n",
              "      <td>200000.000000</td>\n",
              "    </tr>\n",
              "    <tr>\n",
              "      <th>mean</th>\n",
              "      <td>11.359955</td>\n",
              "      <td>-72.527638</td>\n",
              "      <td>39.935885</td>\n",
              "      <td>-72.525292</td>\n",
              "      <td>39.923890</td>\n",
              "      <td>1.684535</td>\n",
              "    </tr>\n",
              "    <tr>\n",
              "      <th>std</th>\n",
              "      <td>9.901776</td>\n",
              "      <td>11.437787</td>\n",
              "      <td>7.720539</td>\n",
              "      <td>13.117408</td>\n",
              "      <td>6.794829</td>\n",
              "      <td>1.385997</td>\n",
              "    </tr>\n",
              "    <tr>\n",
              "      <th>min</th>\n",
              "      <td>-52.000000</td>\n",
              "      <td>-1340.648410</td>\n",
              "      <td>-74.015515</td>\n",
              "      <td>-3356.666300</td>\n",
              "      <td>-881.985513</td>\n",
              "      <td>0.000000</td>\n",
              "    </tr>\n",
              "    <tr>\n",
              "      <th>25%</th>\n",
              "      <td>6.000000</td>\n",
              "      <td>-73.992065</td>\n",
              "      <td>40.734796</td>\n",
              "      <td>-73.991407</td>\n",
              "      <td>40.733823</td>\n",
              "      <td>1.000000</td>\n",
              "    </tr>\n",
              "    <tr>\n",
              "      <th>50%</th>\n",
              "      <td>8.500000</td>\n",
              "      <td>-73.981823</td>\n",
              "      <td>40.752592</td>\n",
              "      <td>-73.980093</td>\n",
              "      <td>40.753042</td>\n",
              "      <td>1.000000</td>\n",
              "    </tr>\n",
              "    <tr>\n",
              "      <th>75%</th>\n",
              "      <td>12.500000</td>\n",
              "      <td>-73.967154</td>\n",
              "      <td>40.767158</td>\n",
              "      <td>-73.963658</td>\n",
              "      <td>40.768001</td>\n",
              "      <td>2.000000</td>\n",
              "    </tr>\n",
              "    <tr>\n",
              "      <th>max</th>\n",
              "      <td>499.000000</td>\n",
              "      <td>57.418457</td>\n",
              "      <td>1644.421482</td>\n",
              "      <td>1153.572603</td>\n",
              "      <td>872.697628</td>\n",
              "      <td>208.000000</td>\n",
              "    </tr>\n",
              "  </tbody>\n",
              "</table>\n",
              "</div>\n",
              "      <button class=\"colab-df-convert\" onclick=\"convertToInteractive('df-ada62477-6225-41d4-bd0f-6961f271ebb5')\"\n",
              "              title=\"Convert this dataframe to an interactive table.\"\n",
              "              style=\"display:none;\">\n",
              "        \n",
              "  <svg xmlns=\"http://www.w3.org/2000/svg\" height=\"24px\"viewBox=\"0 0 24 24\"\n",
              "       width=\"24px\">\n",
              "    <path d=\"M0 0h24v24H0V0z\" fill=\"none\"/>\n",
              "    <path d=\"M18.56 5.44l.94 2.06.94-2.06 2.06-.94-2.06-.94-.94-2.06-.94 2.06-2.06.94zm-11 1L8.5 8.5l.94-2.06 2.06-.94-2.06-.94L8.5 2.5l-.94 2.06-2.06.94zm10 10l.94 2.06.94-2.06 2.06-.94-2.06-.94-.94-2.06-.94 2.06-2.06.94z\"/><path d=\"M17.41 7.96l-1.37-1.37c-.4-.4-.92-.59-1.43-.59-.52 0-1.04.2-1.43.59L10.3 9.45l-7.72 7.72c-.78.78-.78 2.05 0 2.83L4 21.41c.39.39.9.59 1.41.59.51 0 1.02-.2 1.41-.59l7.78-7.78 2.81-2.81c.8-.78.8-2.07 0-2.86zM5.41 20L4 18.59l7.72-7.72 1.47 1.35L5.41 20z\"/>\n",
              "  </svg>\n",
              "      </button>\n",
              "      \n",
              "  <style>\n",
              "    .colab-df-container {\n",
              "      display:flex;\n",
              "      flex-wrap:wrap;\n",
              "      gap: 12px;\n",
              "    }\n",
              "\n",
              "    .colab-df-convert {\n",
              "      background-color: #E8F0FE;\n",
              "      border: none;\n",
              "      border-radius: 50%;\n",
              "      cursor: pointer;\n",
              "      display: none;\n",
              "      fill: #1967D2;\n",
              "      height: 32px;\n",
              "      padding: 0 0 0 0;\n",
              "      width: 32px;\n",
              "    }\n",
              "\n",
              "    .colab-df-convert:hover {\n",
              "      background-color: #E2EBFA;\n",
              "      box-shadow: 0px 1px 2px rgba(60, 64, 67, 0.3), 0px 1px 3px 1px rgba(60, 64, 67, 0.15);\n",
              "      fill: #174EA6;\n",
              "    }\n",
              "\n",
              "    [theme=dark] .colab-df-convert {\n",
              "      background-color: #3B4455;\n",
              "      fill: #D2E3FC;\n",
              "    }\n",
              "\n",
              "    [theme=dark] .colab-df-convert:hover {\n",
              "      background-color: #434B5C;\n",
              "      box-shadow: 0px 1px 3px 1px rgba(0, 0, 0, 0.15);\n",
              "      filter: drop-shadow(0px 1px 2px rgba(0, 0, 0, 0.3));\n",
              "      fill: #FFFFFF;\n",
              "    }\n",
              "  </style>\n",
              "\n",
              "      <script>\n",
              "        const buttonEl =\n",
              "          document.querySelector('#df-ada62477-6225-41d4-bd0f-6961f271ebb5 button.colab-df-convert');\n",
              "        buttonEl.style.display =\n",
              "          google.colab.kernel.accessAllowed ? 'block' : 'none';\n",
              "\n",
              "        async function convertToInteractive(key) {\n",
              "          const element = document.querySelector('#df-ada62477-6225-41d4-bd0f-6961f271ebb5');\n",
              "          const dataTable =\n",
              "            await google.colab.kernel.invokeFunction('convertToInteractive',\n",
              "                                                     [key], {});\n",
              "          if (!dataTable) return;\n",
              "\n",
              "          const docLinkHtml = 'Like what you see? Visit the ' +\n",
              "            '<a target=\"_blank\" href=https://colab.research.google.com/notebooks/data_table.ipynb>data table notebook</a>'\n",
              "            + ' to learn more about interactive tables.';\n",
              "          element.innerHTML = '';\n",
              "          dataTable['output_type'] = 'display_data';\n",
              "          await google.colab.output.renderOutput(dataTable, element);\n",
              "          const docLink = document.createElement('div');\n",
              "          docLink.innerHTML = docLinkHtml;\n",
              "          element.appendChild(docLink);\n",
              "        }\n",
              "      </script>\n",
              "    </div>\n",
              "  </div>\n",
              "  "
            ]
          },
          "metadata": {},
          "execution_count": 171
        }
      ]
    },
    {
      "cell_type": "code",
      "source": [
        "df.corr()"
      ],
      "metadata": {
        "colab": {
          "base_uri": "https://localhost:8080/",
          "height": 238
        },
        "id": "aWkxrDNGK-o2",
        "outputId": "d6b1b122-8ef4-4b7a-f95a-2a16f0dd8306"
      },
      "execution_count": 172,
      "outputs": [
        {
          "output_type": "execute_result",
          "data": {
            "text/plain": [
              "                   fare_amount  pickup_longitude  pickup_latitude  \\\n",
              "fare_amount           1.000000          0.010457        -0.008481   \n",
              "pickup_longitude      0.010457          1.000000        -0.816461   \n",
              "pickup_latitude      -0.008481         -0.816461         1.000000   \n",
              "dropoff_longitude     0.008986          0.833026        -0.774787   \n",
              "dropoff_latitude     -0.011014         -0.846324         0.702367   \n",
              "passenger_count       0.010150         -0.000414        -0.001560   \n",
              "\n",
              "                   dropoff_longitude  dropoff_latitude  passenger_count  \n",
              "fare_amount                 0.008986         -0.011014         0.010150  \n",
              "pickup_longitude            0.833026         -0.846324        -0.000414  \n",
              "pickup_latitude            -0.774787          0.702367        -0.001560  \n",
              "dropoff_longitude           1.000000         -0.917010         0.000033  \n",
              "dropoff_latitude           -0.917010          1.000000        -0.000659  \n",
              "passenger_count             0.000033         -0.000659         1.000000  "
            ],
            "text/html": [
              "\n",
              "  <div id=\"df-abdb99ac-f970-4e0e-8b71-d74c968d9918\">\n",
              "    <div class=\"colab-df-container\">\n",
              "      <div>\n",
              "<style scoped>\n",
              "    .dataframe tbody tr th:only-of-type {\n",
              "        vertical-align: middle;\n",
              "    }\n",
              "\n",
              "    .dataframe tbody tr th {\n",
              "        vertical-align: top;\n",
              "    }\n",
              "\n",
              "    .dataframe thead th {\n",
              "        text-align: right;\n",
              "    }\n",
              "</style>\n",
              "<table border=\"1\" class=\"dataframe\">\n",
              "  <thead>\n",
              "    <tr style=\"text-align: right;\">\n",
              "      <th></th>\n",
              "      <th>fare_amount</th>\n",
              "      <th>pickup_longitude</th>\n",
              "      <th>pickup_latitude</th>\n",
              "      <th>dropoff_longitude</th>\n",
              "      <th>dropoff_latitude</th>\n",
              "      <th>passenger_count</th>\n",
              "    </tr>\n",
              "  </thead>\n",
              "  <tbody>\n",
              "    <tr>\n",
              "      <th>fare_amount</th>\n",
              "      <td>1.000000</td>\n",
              "      <td>0.010457</td>\n",
              "      <td>-0.008481</td>\n",
              "      <td>0.008986</td>\n",
              "      <td>-0.011014</td>\n",
              "      <td>0.010150</td>\n",
              "    </tr>\n",
              "    <tr>\n",
              "      <th>pickup_longitude</th>\n",
              "      <td>0.010457</td>\n",
              "      <td>1.000000</td>\n",
              "      <td>-0.816461</td>\n",
              "      <td>0.833026</td>\n",
              "      <td>-0.846324</td>\n",
              "      <td>-0.000414</td>\n",
              "    </tr>\n",
              "    <tr>\n",
              "      <th>pickup_latitude</th>\n",
              "      <td>-0.008481</td>\n",
              "      <td>-0.816461</td>\n",
              "      <td>1.000000</td>\n",
              "      <td>-0.774787</td>\n",
              "      <td>0.702367</td>\n",
              "      <td>-0.001560</td>\n",
              "    </tr>\n",
              "    <tr>\n",
              "      <th>dropoff_longitude</th>\n",
              "      <td>0.008986</td>\n",
              "      <td>0.833026</td>\n",
              "      <td>-0.774787</td>\n",
              "      <td>1.000000</td>\n",
              "      <td>-0.917010</td>\n",
              "      <td>0.000033</td>\n",
              "    </tr>\n",
              "    <tr>\n",
              "      <th>dropoff_latitude</th>\n",
              "      <td>-0.011014</td>\n",
              "      <td>-0.846324</td>\n",
              "      <td>0.702367</td>\n",
              "      <td>-0.917010</td>\n",
              "      <td>1.000000</td>\n",
              "      <td>-0.000659</td>\n",
              "    </tr>\n",
              "    <tr>\n",
              "      <th>passenger_count</th>\n",
              "      <td>0.010150</td>\n",
              "      <td>-0.000414</td>\n",
              "      <td>-0.001560</td>\n",
              "      <td>0.000033</td>\n",
              "      <td>-0.000659</td>\n",
              "      <td>1.000000</td>\n",
              "    </tr>\n",
              "  </tbody>\n",
              "</table>\n",
              "</div>\n",
              "      <button class=\"colab-df-convert\" onclick=\"convertToInteractive('df-abdb99ac-f970-4e0e-8b71-d74c968d9918')\"\n",
              "              title=\"Convert this dataframe to an interactive table.\"\n",
              "              style=\"display:none;\">\n",
              "        \n",
              "  <svg xmlns=\"http://www.w3.org/2000/svg\" height=\"24px\"viewBox=\"0 0 24 24\"\n",
              "       width=\"24px\">\n",
              "    <path d=\"M0 0h24v24H0V0z\" fill=\"none\"/>\n",
              "    <path d=\"M18.56 5.44l.94 2.06.94-2.06 2.06-.94-2.06-.94-.94-2.06-.94 2.06-2.06.94zm-11 1L8.5 8.5l.94-2.06 2.06-.94-2.06-.94L8.5 2.5l-.94 2.06-2.06.94zm10 10l.94 2.06.94-2.06 2.06-.94-2.06-.94-.94-2.06-.94 2.06-2.06.94z\"/><path d=\"M17.41 7.96l-1.37-1.37c-.4-.4-.92-.59-1.43-.59-.52 0-1.04.2-1.43.59L10.3 9.45l-7.72 7.72c-.78.78-.78 2.05 0 2.83L4 21.41c.39.39.9.59 1.41.59.51 0 1.02-.2 1.41-.59l7.78-7.78 2.81-2.81c.8-.78.8-2.07 0-2.86zM5.41 20L4 18.59l7.72-7.72 1.47 1.35L5.41 20z\"/>\n",
              "  </svg>\n",
              "      </button>\n",
              "      \n",
              "  <style>\n",
              "    .colab-df-container {\n",
              "      display:flex;\n",
              "      flex-wrap:wrap;\n",
              "      gap: 12px;\n",
              "    }\n",
              "\n",
              "    .colab-df-convert {\n",
              "      background-color: #E8F0FE;\n",
              "      border: none;\n",
              "      border-radius: 50%;\n",
              "      cursor: pointer;\n",
              "      display: none;\n",
              "      fill: #1967D2;\n",
              "      height: 32px;\n",
              "      padding: 0 0 0 0;\n",
              "      width: 32px;\n",
              "    }\n",
              "\n",
              "    .colab-df-convert:hover {\n",
              "      background-color: #E2EBFA;\n",
              "      box-shadow: 0px 1px 2px rgba(60, 64, 67, 0.3), 0px 1px 3px 1px rgba(60, 64, 67, 0.15);\n",
              "      fill: #174EA6;\n",
              "    }\n",
              "\n",
              "    [theme=dark] .colab-df-convert {\n",
              "      background-color: #3B4455;\n",
              "      fill: #D2E3FC;\n",
              "    }\n",
              "\n",
              "    [theme=dark] .colab-df-convert:hover {\n",
              "      background-color: #434B5C;\n",
              "      box-shadow: 0px 1px 3px 1px rgba(0, 0, 0, 0.15);\n",
              "      filter: drop-shadow(0px 1px 2px rgba(0, 0, 0, 0.3));\n",
              "      fill: #FFFFFF;\n",
              "    }\n",
              "  </style>\n",
              "\n",
              "      <script>\n",
              "        const buttonEl =\n",
              "          document.querySelector('#df-abdb99ac-f970-4e0e-8b71-d74c968d9918 button.colab-df-convert');\n",
              "        buttonEl.style.display =\n",
              "          google.colab.kernel.accessAllowed ? 'block' : 'none';\n",
              "\n",
              "        async function convertToInteractive(key) {\n",
              "          const element = document.querySelector('#df-abdb99ac-f970-4e0e-8b71-d74c968d9918');\n",
              "          const dataTable =\n",
              "            await google.colab.kernel.invokeFunction('convertToInteractive',\n",
              "                                                     [key], {});\n",
              "          if (!dataTable) return;\n",
              "\n",
              "          const docLinkHtml = 'Like what you see? Visit the ' +\n",
              "            '<a target=\"_blank\" href=https://colab.research.google.com/notebooks/data_table.ipynb>data table notebook</a>'\n",
              "            + ' to learn more about interactive tables.';\n",
              "          element.innerHTML = '';\n",
              "          dataTable['output_type'] = 'display_data';\n",
              "          await google.colab.output.renderOutput(dataTable, element);\n",
              "          const docLink = document.createElement('div');\n",
              "          docLink.innerHTML = docLinkHtml;\n",
              "          element.appendChild(docLink);\n",
              "        }\n",
              "      </script>\n",
              "    </div>\n",
              "  </div>\n",
              "  "
            ]
          },
          "metadata": {},
          "execution_count": 172
        }
      ]
    },
    {
      "cell_type": "code",
      "source": [
        "df.dropna(inplace=True)"
      ],
      "metadata": {
        "id": "eWhNWiz-LVUU"
      },
      "execution_count": 173,
      "outputs": []
    },
    {
      "cell_type": "code",
      "source": [
        "mini=df['fare_amount'].min()\n",
        "maxm=df['fare_amount'].max()"
      ],
      "metadata": {
        "id": "A-wNP1YBLf6Z"
      },
      "execution_count": 174,
      "outputs": []
    },
    {
      "cell_type": "code",
      "source": [
        "mini"
      ],
      "metadata": {
        "colab": {
          "base_uri": "https://localhost:8080/"
        },
        "id": "EnKUInefLzCc",
        "outputId": "791f3b04-43fe-4967-b9d0-1e66c517d65a"
      },
      "execution_count": 175,
      "outputs": [
        {
          "output_type": "execute_result",
          "data": {
            "text/plain": [
              "-52.0"
            ]
          },
          "metadata": {},
          "execution_count": 175
        }
      ]
    },
    {
      "cell_type": "code",
      "source": [
        "maxm"
      ],
      "metadata": {
        "colab": {
          "base_uri": "https://localhost:8080/"
        },
        "id": "erD8TwuCMEnW",
        "outputId": "0f2f89d2-f146-44a2-bb1e-e8b15b0c9732"
      },
      "execution_count": 176,
      "outputs": [
        {
          "output_type": "execute_result",
          "data": {
            "text/plain": [
              "499.0"
            ]
          },
          "metadata": {},
          "execution_count": 176
        }
      ]
    },
    {
      "cell_type": "code",
      "source": [
        "df['fare_amount'].mean()"
      ],
      "metadata": {
        "colab": {
          "base_uri": "https://localhost:8080/"
        },
        "id": "sRlyAHsUMGKt",
        "outputId": "29ab8ed6-028f-4a5a-ca0b-c123a2923326"
      },
      "execution_count": 177,
      "outputs": [
        {
          "output_type": "execute_result",
          "data": {
            "text/plain": [
              "11.359891549457748"
            ]
          },
          "metadata": {},
          "execution_count": 177
        }
      ]
    },
    {
      "cell_type": "code",
      "source": [
        "\n",
        "from sklearn.model_selection import train_test_split"
      ],
      "metadata": {
        "id": "H38tQhvpMizr"
      },
      "execution_count": 178,
      "outputs": []
    },
    {
      "cell_type": "code",
      "source": [
        "\n"
      ],
      "metadata": {
        "id": "AYDiFj5oM4Rx"
      },
      "execution_count": 178,
      "outputs": []
    },
    {
      "cell_type": "code",
      "source": [
        "#Necessary to apply model\n",
        "df['pickup_datetime'] = pd.to_numeric(pd.to_datetime(df['pickup_datetime']))"
      ],
      "metadata": {
        "id": "VorLUhxnXMWD"
      },
      "execution_count": 185,
      "outputs": []
    },
    {
      "cell_type": "code",
      "source": [
        "x=df.drop('fare_amount', axis=1)\n",
        "y=df['fare_amount']"
      ],
      "metadata": {
        "id": "4bVcxo-2XIcr"
      },
      "execution_count": 186,
      "outputs": []
    },
    {
      "cell_type": "code",
      "source": [
        "x_train, x_test, y_train, y_test = train_test_split(x, y, random_state=1, test_size=0.2)"
      ],
      "metadata": {
        "id": "hWVEoVOnNLnD"
      },
      "execution_count": 187,
      "outputs": []
    },
    {
      "cell_type": "code",
      "source": [
        "from sklearn.linear_model import LinearRegression"
      ],
      "metadata": {
        "id": "MqXKFBOyNqCB"
      },
      "execution_count": 188,
      "outputs": []
    },
    {
      "cell_type": "code",
      "source": [
        "lr= LinearRegression()\n"
      ],
      "metadata": {
        "id": "X8lIxbW9NsWP"
      },
      "execution_count": 189,
      "outputs": []
    },
    {
      "cell_type": "code",
      "source": [
        "\n",
        "lr.fit(x_train, y_train)\n"
      ],
      "metadata": {
        "colab": {
          "base_uri": "https://localhost:8080/"
        },
        "id": "uqsYOQb6PU-o",
        "outputId": "c67d5e24-4bbe-45ff-83f6-d3a36cc51921"
      },
      "execution_count": 190,
      "outputs": [
        {
          "output_type": "execute_result",
          "data": {
            "text/plain": [
              "LinearRegression()"
            ]
          },
          "metadata": {},
          "execution_count": 190
        }
      ]
    },
    {
      "cell_type": "code",
      "source": [
        "import numpy as np\n",
        "#x=np.array(x_train)\n",
        "#y=np.array(y_train)\n",
        "lr.fit(np.array(x_train),np.array(y_train))"
      ],
      "metadata": {
        "colab": {
          "base_uri": "https://localhost:8080/"
        },
        "id": "AXuOyRJXPsTU",
        "outputId": "07b3ea3c-ed29-4d0a-cc5f-6b73cf9e5925"
      },
      "execution_count": 191,
      "outputs": [
        {
          "output_type": "execute_result",
          "data": {
            "text/plain": [
              "LinearRegression()"
            ]
          },
          "metadata": {},
          "execution_count": 191
        }
      ]
    },
    {
      "cell_type": "code",
      "source": [],
      "metadata": {
        "id": "Vieyq72dSGOS"
      },
      "execution_count": 191,
      "outputs": []
    },
    {
      "cell_type": "code",
      "source": [
        "predict= lr.predict(x_test)"
      ],
      "metadata": {
        "colab": {
          "base_uri": "https://localhost:8080/"
        },
        "id": "Mfrj4eEFUGgx",
        "outputId": "88735035-892d-4aae-cc19-068a92843f56"
      },
      "execution_count": 192,
      "outputs": [
        {
          "output_type": "stream",
          "name": "stderr",
          "text": [
            "/usr/local/lib/python3.7/dist-packages/sklearn/base.py:444: UserWarning: X has feature names, but LinearRegression was fitted without feature names\n",
            "  f\"X has feature names, but {self.__class__.__name__} was fitted without\"\n"
          ]
        }
      ]
    },
    {
      "cell_type": "code",
      "source": [
        "from sklearn.metrics import mean_squared_error\n",
        "rmse= np.sqrt(mean_squared_error(predict, y_test))\n",
        "rmse"
      ],
      "metadata": {
        "colab": {
          "base_uri": "https://localhost:8080/"
        },
        "id": "KCFLKGwWVrzX",
        "outputId": "18cd0cd9-ca1f-4a9a-887a-82d4085101bb"
      },
      "execution_count": 195,
      "outputs": [
        {
          "output_type": "execute_result",
          "data": {
            "text/plain": [
              "9.472575591051807"
            ]
          },
          "metadata": {},
          "execution_count": 195
        }
      ]
    },
    {
      "cell_type": "code",
      "source": [],
      "metadata": {
        "id": "X6LleDHCaDxf"
      },
      "execution_count": null,
      "outputs": []
    }
  ]
}