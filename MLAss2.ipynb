{
  "nbformat": 4,
  "nbformat_minor": 0,
  "metadata": {
    "colab": {
      "provenance": [],
      "authorship_tag": "ABX9TyMxvBkKPSqYFYNQNysU2hWK",
      "include_colab_link": true
    },
    "kernelspec": {
      "name": "python3",
      "display_name": "Python 3"
    },
    "language_info": {
      "name": "python"
    }
  },
  "cells": [
    {
      "cell_type": "markdown",
      "metadata": {
        "id": "view-in-github",
        "colab_type": "text"
      },
      "source": [
        "<a href=\"https://colab.research.google.com/github/RiddhiShinde/LP2_Program/blob/main/MLAss2.ipynb\" target=\"_parent\"><img src=\"https://colab.research.google.com/assets/colab-badge.svg\" alt=\"Open In Colab\"/></a>"
      ]
    },
    {
      "cell_type": "code",
      "execution_count": 4,
      "metadata": {
        "id": "hfUwguFvB1ck"
      },
      "outputs": [],
      "source": [
        "import pandas as pd \n",
        "import numpy as np"
      ]
    },
    {
      "cell_type": "code",
      "source": [
        "#df=pd.read_csv('https://raw.githubusercontent.com/afnan47/sem7/main/ML/2.%20Email%20Spam%20Classification/emails.csv')\n",
        "\n",
        "from google.colab import files\n",
        "uploaded = files.upload()"
      ],
      "metadata": {
        "colab": {
          "base_uri": "https://localhost:8080/",
          "height": 73
        },
        "id": "pTyh8F5OCPj4",
        "outputId": "f053d3bc-2282-4f03-9128-581410742271"
      },
      "execution_count": 1,
      "outputs": [
        {
          "output_type": "display_data",
          "data": {
            "text/plain": [
              "<IPython.core.display.HTML object>"
            ],
            "text/html": [
              "\n",
              "     <input type=\"file\" id=\"files-444577eb-0a6b-4db1-8fc4-7201b946ae10\" name=\"files[]\" multiple disabled\n",
              "        style=\"border:none\" />\n",
              "     <output id=\"result-444577eb-0a6b-4db1-8fc4-7201b946ae10\">\n",
              "      Upload widget is only available when the cell has been executed in the\n",
              "      current browser session. Please rerun this cell to enable.\n",
              "      </output>\n",
              "      <script>// Copyright 2017 Google LLC\n",
              "//\n",
              "// Licensed under the Apache License, Version 2.0 (the \"License\");\n",
              "// you may not use this file except in compliance with the License.\n",
              "// You may obtain a copy of the License at\n",
              "//\n",
              "//      http://www.apache.org/licenses/LICENSE-2.0\n",
              "//\n",
              "// Unless required by applicable law or agreed to in writing, software\n",
              "// distributed under the License is distributed on an \"AS IS\" BASIS,\n",
              "// WITHOUT WARRANTIES OR CONDITIONS OF ANY KIND, either express or implied.\n",
              "// See the License for the specific language governing permissions and\n",
              "// limitations under the License.\n",
              "\n",
              "/**\n",
              " * @fileoverview Helpers for google.colab Python module.\n",
              " */\n",
              "(function(scope) {\n",
              "function span(text, styleAttributes = {}) {\n",
              "  const element = document.createElement('span');\n",
              "  element.textContent = text;\n",
              "  for (const key of Object.keys(styleAttributes)) {\n",
              "    element.style[key] = styleAttributes[key];\n",
              "  }\n",
              "  return element;\n",
              "}\n",
              "\n",
              "// Max number of bytes which will be uploaded at a time.\n",
              "const MAX_PAYLOAD_SIZE = 100 * 1024;\n",
              "\n",
              "function _uploadFiles(inputId, outputId) {\n",
              "  const steps = uploadFilesStep(inputId, outputId);\n",
              "  const outputElement = document.getElementById(outputId);\n",
              "  // Cache steps on the outputElement to make it available for the next call\n",
              "  // to uploadFilesContinue from Python.\n",
              "  outputElement.steps = steps;\n",
              "\n",
              "  return _uploadFilesContinue(outputId);\n",
              "}\n",
              "\n",
              "// This is roughly an async generator (not supported in the browser yet),\n",
              "// where there are multiple asynchronous steps and the Python side is going\n",
              "// to poll for completion of each step.\n",
              "// This uses a Promise to block the python side on completion of each step,\n",
              "// then passes the result of the previous step as the input to the next step.\n",
              "function _uploadFilesContinue(outputId) {\n",
              "  const outputElement = document.getElementById(outputId);\n",
              "  const steps = outputElement.steps;\n",
              "\n",
              "  const next = steps.next(outputElement.lastPromiseValue);\n",
              "  return Promise.resolve(next.value.promise).then((value) => {\n",
              "    // Cache the last promise value to make it available to the next\n",
              "    // step of the generator.\n",
              "    outputElement.lastPromiseValue = value;\n",
              "    return next.value.response;\n",
              "  });\n",
              "}\n",
              "\n",
              "/**\n",
              " * Generator function which is called between each async step of the upload\n",
              " * process.\n",
              " * @param {string} inputId Element ID of the input file picker element.\n",
              " * @param {string} outputId Element ID of the output display.\n",
              " * @return {!Iterable<!Object>} Iterable of next steps.\n",
              " */\n",
              "function* uploadFilesStep(inputId, outputId) {\n",
              "  const inputElement = document.getElementById(inputId);\n",
              "  inputElement.disabled = false;\n",
              "\n",
              "  const outputElement = document.getElementById(outputId);\n",
              "  outputElement.innerHTML = '';\n",
              "\n",
              "  const pickedPromise = new Promise((resolve) => {\n",
              "    inputElement.addEventListener('change', (e) => {\n",
              "      resolve(e.target.files);\n",
              "    });\n",
              "  });\n",
              "\n",
              "  const cancel = document.createElement('button');\n",
              "  inputElement.parentElement.appendChild(cancel);\n",
              "  cancel.textContent = 'Cancel upload';\n",
              "  const cancelPromise = new Promise((resolve) => {\n",
              "    cancel.onclick = () => {\n",
              "      resolve(null);\n",
              "    };\n",
              "  });\n",
              "\n",
              "  // Wait for the user to pick the files.\n",
              "  const files = yield {\n",
              "    promise: Promise.race([pickedPromise, cancelPromise]),\n",
              "    response: {\n",
              "      action: 'starting',\n",
              "    }\n",
              "  };\n",
              "\n",
              "  cancel.remove();\n",
              "\n",
              "  // Disable the input element since further picks are not allowed.\n",
              "  inputElement.disabled = true;\n",
              "\n",
              "  if (!files) {\n",
              "    return {\n",
              "      response: {\n",
              "        action: 'complete',\n",
              "      }\n",
              "    };\n",
              "  }\n",
              "\n",
              "  for (const file of files) {\n",
              "    const li = document.createElement('li');\n",
              "    li.append(span(file.name, {fontWeight: 'bold'}));\n",
              "    li.append(span(\n",
              "        `(${file.type || 'n/a'}) - ${file.size} bytes, ` +\n",
              "        `last modified: ${\n",
              "            file.lastModifiedDate ? file.lastModifiedDate.toLocaleDateString() :\n",
              "                                    'n/a'} - `));\n",
              "    const percent = span('0% done');\n",
              "    li.appendChild(percent);\n",
              "\n",
              "    outputElement.appendChild(li);\n",
              "\n",
              "    const fileDataPromise = new Promise((resolve) => {\n",
              "      const reader = new FileReader();\n",
              "      reader.onload = (e) => {\n",
              "        resolve(e.target.result);\n",
              "      };\n",
              "      reader.readAsArrayBuffer(file);\n",
              "    });\n",
              "    // Wait for the data to be ready.\n",
              "    let fileData = yield {\n",
              "      promise: fileDataPromise,\n",
              "      response: {\n",
              "        action: 'continue',\n",
              "      }\n",
              "    };\n",
              "\n",
              "    // Use a chunked sending to avoid message size limits. See b/62115660.\n",
              "    let position = 0;\n",
              "    do {\n",
              "      const length = Math.min(fileData.byteLength - position, MAX_PAYLOAD_SIZE);\n",
              "      const chunk = new Uint8Array(fileData, position, length);\n",
              "      position += length;\n",
              "\n",
              "      const base64 = btoa(String.fromCharCode.apply(null, chunk));\n",
              "      yield {\n",
              "        response: {\n",
              "          action: 'append',\n",
              "          file: file.name,\n",
              "          data: base64,\n",
              "        },\n",
              "      };\n",
              "\n",
              "      let percentDone = fileData.byteLength === 0 ?\n",
              "          100 :\n",
              "          Math.round((position / fileData.byteLength) * 100);\n",
              "      percent.textContent = `${percentDone}% done`;\n",
              "\n",
              "    } while (position < fileData.byteLength);\n",
              "  }\n",
              "\n",
              "  // All done.\n",
              "  yield {\n",
              "    response: {\n",
              "      action: 'complete',\n",
              "    }\n",
              "  };\n",
              "}\n",
              "\n",
              "scope.google = scope.google || {};\n",
              "scope.google.colab = scope.google.colab || {};\n",
              "scope.google.colab._files = {\n",
              "  _uploadFiles,\n",
              "  _uploadFilesContinue,\n",
              "};\n",
              "})(self);\n",
              "</script> "
            ]
          },
          "metadata": {}
        },
        {
          "output_type": "stream",
          "name": "stdout",
          "text": [
            "Saving emails.csv to emails.csv\n"
          ]
        }
      ]
    },
    {
      "cell_type": "code",
      "source": [
        "import io\n",
        "df=pd.read_csv(io.BytesIO(uploaded['emails.csv']))"
      ],
      "metadata": {
        "id": "DyyPEWtVsLrf"
      },
      "execution_count": 5,
      "outputs": []
    },
    {
      "cell_type": "code",
      "source": [
        "df.shape"
      ],
      "metadata": {
        "colab": {
          "base_uri": "https://localhost:8080/"
        },
        "id": "FRUunYXfDmBb",
        "outputId": "2df29bc1-6e09-4cf3-fb31-b16224710546"
      },
      "execution_count": 10,
      "outputs": [
        {
          "output_type": "execute_result",
          "data": {
            "text/plain": [
              "(5172, 3002)"
            ]
          },
          "metadata": {},
          "execution_count": 10
        }
      ]
    },
    {
      "cell_type": "code",
      "source": [
        "df.columns"
      ],
      "metadata": {
        "colab": {
          "base_uri": "https://localhost:8080/"
        },
        "id": "-JVcJ32ZDrg-",
        "outputId": "5ddc2a1c-be36-419b-baf8-b26612ef54eb"
      },
      "execution_count": 6,
      "outputs": [
        {
          "output_type": "execute_result",
          "data": {
            "text/plain": [
              "Index(['Email No.', 'the', 'to', 'ect', 'and', 'for', 'of', 'a', 'you', 'hou',\n",
              "       ...\n",
              "       'connevey', 'jay', 'valued', 'lay', 'infrastructure', 'military',\n",
              "       'allowing', 'ff', 'dry', 'Prediction'],\n",
              "      dtype='object', length=3002)"
            ]
          },
          "metadata": {},
          "execution_count": 6
        }
      ]
    },
    {
      "cell_type": "code",
      "source": [
        "df.head"
      ],
      "metadata": {
        "colab": {
          "base_uri": "https://localhost:8080/"
        },
        "id": "tHNmYsOxCWVW",
        "outputId": "285e9cd2-0e42-4384-fc49-8758a962b957"
      },
      "execution_count": 7,
      "outputs": [
        {
          "output_type": "execute_result",
          "data": {
            "text/plain": [
              "<bound method NDFrame.head of        Email No.  the  to  ect  and  for  of    a  you  hou  ...  connevey  \\\n",
              "0        Email 1    0   0    1    0    0   0    2    0    0  ...         0   \n",
              "1        Email 2    8  13   24    6    6   2  102    1   27  ...         0   \n",
              "2        Email 3    0   0    1    0    0   0    8    0    0  ...         0   \n",
              "3        Email 4    0   5   22    0    5   1   51    2   10  ...         0   \n",
              "4        Email 5    7   6   17    1    5   2   57    0    9  ...         0   \n",
              "...          ...  ...  ..  ...  ...  ...  ..  ...  ...  ...  ...       ...   \n",
              "5167  Email 5168    2   2    2    3    0   0   32    0    0  ...         0   \n",
              "5168  Email 5169   35  27   11    2    6   5  151    4    3  ...         0   \n",
              "5169  Email 5170    0   0    1    1    0   0   11    0    0  ...         0   \n",
              "5170  Email 5171    2   7    1    0    2   1   28    2    0  ...         0   \n",
              "5171  Email 5172   22  24    5    1    6   5  148    8    2  ...         0   \n",
              "\n",
              "      jay  valued  lay  infrastructure  military  allowing  ff  dry  \\\n",
              "0       0       0    0               0         0         0   0    0   \n",
              "1       0       0    0               0         0         0   1    0   \n",
              "2       0       0    0               0         0         0   0    0   \n",
              "3       0       0    0               0         0         0   0    0   \n",
              "4       0       0    0               0         0         0   1    0   \n",
              "...   ...     ...  ...             ...       ...       ...  ..  ...   \n",
              "5167    0       0    0               0         0         0   0    0   \n",
              "5168    0       0    0               0         0         0   1    0   \n",
              "5169    0       0    0               0         0         0   0    0   \n",
              "5170    0       0    0               0         0         0   1    0   \n",
              "5171    0       0    0               0         0         0   0    0   \n",
              "\n",
              "      Prediction  \n",
              "0              0  \n",
              "1              0  \n",
              "2              0  \n",
              "3              0  \n",
              "4              0  \n",
              "...          ...  \n",
              "5167           0  \n",
              "5168           0  \n",
              "5169           1  \n",
              "5170           1  \n",
              "5171           0  \n",
              "\n",
              "[5172 rows x 3002 columns]>"
            ]
          },
          "metadata": {},
          "execution_count": 7
        }
      ]
    },
    {
      "cell_type": "code",
      "source": [
        "df.info"
      ],
      "metadata": {
        "colab": {
          "base_uri": "https://localhost:8080/"
        },
        "id": "wqYPOV84CfmF",
        "outputId": "c2b80548-ba9f-45dc-d060-8475f6b1fcd5"
      },
      "execution_count": 6,
      "outputs": [
        {
          "output_type": "execute_result",
          "data": {
            "text/plain": [
              "<bound method DataFrame.info of        Email No.  the  to  ect  and  for  of    a  you  hou  ...  connevey  \\\n",
              "0        Email 1    0   0    1    0    0   0    2    0    0  ...         0   \n",
              "1        Email 2    8  13   24    6    6   2  102    1   27  ...         0   \n",
              "2        Email 3    0   0    1    0    0   0    8    0    0  ...         0   \n",
              "3        Email 4    0   5   22    0    5   1   51    2   10  ...         0   \n",
              "4        Email 5    7   6   17    1    5   2   57    0    9  ...         0   \n",
              "...          ...  ...  ..  ...  ...  ...  ..  ...  ...  ...  ...       ...   \n",
              "5167  Email 5168    2   2    2    3    0   0   32    0    0  ...         0   \n",
              "5168  Email 5169   35  27   11    2    6   5  151    4    3  ...         0   \n",
              "5169  Email 5170    0   0    1    1    0   0   11    0    0  ...         0   \n",
              "5170  Email 5171    2   7    1    0    2   1   28    2    0  ...         0   \n",
              "5171  Email 5172   22  24    5    1    6   5  148    8    2  ...         0   \n",
              "\n",
              "      jay  valued  lay  infrastructure  military  allowing  ff  dry  \\\n",
              "0       0       0    0               0         0         0   0    0   \n",
              "1       0       0    0               0         0         0   1    0   \n",
              "2       0       0    0               0         0         0   0    0   \n",
              "3       0       0    0               0         0         0   0    0   \n",
              "4       0       0    0               0         0         0   1    0   \n",
              "...   ...     ...  ...             ...       ...       ...  ..  ...   \n",
              "5167    0       0    0               0         0         0   0    0   \n",
              "5168    0       0    0               0         0         0   1    0   \n",
              "5169    0       0    0               0         0         0   0    0   \n",
              "5170    0       0    0               0         0         0   1    0   \n",
              "5171    0       0    0               0         0         0   0    0   \n",
              "\n",
              "      Prediction  \n",
              "0              0  \n",
              "1              0  \n",
              "2              0  \n",
              "3              0  \n",
              "4              0  \n",
              "...          ...  \n",
              "5167           0  \n",
              "5168           0  \n",
              "5169           1  \n",
              "5170           1  \n",
              "5171           0  \n",
              "\n",
              "[5172 rows x 3002 columns]>"
            ]
          },
          "metadata": {},
          "execution_count": 6
        }
      ]
    },
    {
      "cell_type": "code",
      "source": [
        "df.describe"
      ],
      "metadata": {
        "colab": {
          "base_uri": "https://localhost:8080/"
        },
        "id": "juxGTnsJCpKg",
        "outputId": "7ad0f6d6-4d3c-4149-d79f-ac63b2575978"
      },
      "execution_count": 9,
      "outputs": [
        {
          "output_type": "execute_result",
          "data": {
            "text/plain": [
              "<bound method NDFrame.describe of        Email No.  the  to  ect  and  for  of    a  you  hou  ...  connevey  \\\n",
              "0        Email 1    0   0    1    0    0   0    2    0    0  ...         0   \n",
              "1        Email 2    8  13   24    6    6   2  102    1   27  ...         0   \n",
              "2        Email 3    0   0    1    0    0   0    8    0    0  ...         0   \n",
              "3        Email 4    0   5   22    0    5   1   51    2   10  ...         0   \n",
              "4        Email 5    7   6   17    1    5   2   57    0    9  ...         0   \n",
              "...          ...  ...  ..  ...  ...  ...  ..  ...  ...  ...  ...       ...   \n",
              "5167  Email 5168    2   2    2    3    0   0   32    0    0  ...         0   \n",
              "5168  Email 5169   35  27   11    2    6   5  151    4    3  ...         0   \n",
              "5169  Email 5170    0   0    1    1    0   0   11    0    0  ...         0   \n",
              "5170  Email 5171    2   7    1    0    2   1   28    2    0  ...         0   \n",
              "5171  Email 5172   22  24    5    1    6   5  148    8    2  ...         0   \n",
              "\n",
              "      jay  valued  lay  infrastructure  military  allowing  ff  dry  \\\n",
              "0       0       0    0               0         0         0   0    0   \n",
              "1       0       0    0               0         0         0   1    0   \n",
              "2       0       0    0               0         0         0   0    0   \n",
              "3       0       0    0               0         0         0   0    0   \n",
              "4       0       0    0               0         0         0   1    0   \n",
              "...   ...     ...  ...             ...       ...       ...  ..  ...   \n",
              "5167    0       0    0               0         0         0   0    0   \n",
              "5168    0       0    0               0         0         0   1    0   \n",
              "5169    0       0    0               0         0         0   0    0   \n",
              "5170    0       0    0               0         0         0   1    0   \n",
              "5171    0       0    0               0         0         0   0    0   \n",
              "\n",
              "      Prediction  \n",
              "0              0  \n",
              "1              0  \n",
              "2              0  \n",
              "3              0  \n",
              "4              0  \n",
              "...          ...  \n",
              "5167           0  \n",
              "5168           0  \n",
              "5169           1  \n",
              "5170           1  \n",
              "5171           0  \n",
              "\n",
              "[5172 rows x 3002 columns]>"
            ]
          },
          "metadata": {},
          "execution_count": 9
        }
      ]
    },
    {
      "cell_type": "code",
      "source": [
        "#input data\n",
        "x=df.drop(['Email No.','Prediction'],axis=1)\n",
        "\n",
        "#output data\n",
        "\n",
        "y=df['Prediction']"
      ],
      "metadata": {
        "id": "3R_sbJq-Crbj"
      },
      "execution_count": 14,
      "outputs": []
    },
    {
      "cell_type": "code",
      "source": [
        "import seaborn as sns\n",
        "sns.countplot(x=y)"
      ],
      "metadata": {
        "colab": {
          "base_uri": "https://localhost:8080/",
          "height": 296
        },
        "id": "vln-HnrgEP2m",
        "outputId": "cc7d606b-da1d-4f15-8595-8b34178728dc"
      },
      "execution_count": 15,
      "outputs": [
        {
          "output_type": "execute_result",
          "data": {
            "text/plain": [
              "<matplotlib.axes._subplots.AxesSubplot at 0x7f77f6c5f910>"
            ]
          },
          "metadata": {},
          "execution_count": 15
        },
        {
          "output_type": "display_data",
          "data": {
            "text/plain": [
              "<Figure size 432x288 with 1 Axes>"
            ],
            "image/png": "[encoded data removed]"
          },
          "metadata": {
            "needs_background": "light"
          }
        }
      ]
    },
    {
      "cell_type": "code",
      "source": [
        "y.value_counts()"
      ],
      "metadata": {
        "colab": {
          "base_uri": "https://localhost:8080/"
        },
        "id": "B_mYIjAaHBvO",
        "outputId": "d11ae8bf-e974-4242-9352-d70313b23bb9"
      },
      "execution_count": 16,
      "outputs": [
        {
          "output_type": "execute_result",
          "data": {
            "text/plain": [
              "0    3672\n",
              "1    1500\n",
              "Name: Prediction, dtype: int64"
            ]
          },
          "metadata": {},
          "execution_count": 16
        }
      ]
    },
    {
      "cell_type": "code",
      "source": [
        "#feature scalling\n",
        "\n",
        "from sklearn.preprocessing import MinMaxScaler"
      ],
      "metadata": {
        "id": "0Rg4Mw0sHauy"
      },
      "execution_count": 17,
      "outputs": []
    },
    {
      "cell_type": "code",
      "source": [
        "scaler = MinMaxScaler()\n",
        "x_scaled= scaler.fit_transform(x)"
      ],
      "metadata": {
        "id": "DG7kAD5aHoS6"
      },
      "execution_count": 18,
      "outputs": []
    },
    {
      "cell_type": "code",
      "source": [
        "from sklearn.model_selection import train_test_split\n",
        "x_train,x_test,y_train,y_test= train_test_split(x_scaled,y,random_state=0, test_size=0.20)"
      ],
      "metadata": {
        "id": "gX4O-BrMHwEK"
      },
      "execution_count": 19,
      "outputs": []
    },
    {
      "cell_type": "code",
      "source": [
        "#knn\n",
        "from sklearn.neighbors import KNeighborsClassifier\n",
        "knn = KNeighborsClassifier()\n",
        "knn.fit(x_train,y_train)\n",
        "y_pred = knn.predict(x_test)\n"
      ],
      "metadata": {
        "id": "IysiXUetIExd"
      },
      "execution_count": 22,
      "outputs": []
    },
    {
      "cell_type": "code",
      "source": [
        "#supprt vector machine\n",
        "from sklearn.svm import SVC\n",
        "svm = SVC(kernel='linear')\n",
        "svm.fit(x_train, y_train)\n",
        "y_pred= svm.predict(x_test)"
      ],
      "metadata": {
        "id": "lqJQpEeaIou-"
      },
      "execution_count": 24,
      "outputs": []
    },
    {
      "cell_type": "code",
      "source": [
        "from sklearn.metrics import accuracy_score\n",
        "accuracy_score(y_test, y_pred)"
      ],
      "metadata": {
        "colab": {
          "base_uri": "https://localhost:8080/"
        },
        "id": "b5v5e-z1vnqD",
        "outputId": "e50d07e6-bde2-42c5-e791-8a1932fd7458"
      },
      "execution_count": 25,
      "outputs": [
        {
          "output_type": "execute_result",
          "data": {
            "text/plain": [
              "0.970048309178744"
            ]
          },
          "metadata": {},
          "execution_count": 25
        }
      ]
    },
    {
      "cell_type": "code",
      "source": [],
      "metadata": {
        "id": "63lc5-IpxNV0"
      },
      "execution_count": null,
      "outputs": []
    }
  ]
}