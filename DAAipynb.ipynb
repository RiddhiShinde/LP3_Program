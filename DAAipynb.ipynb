{
  "nbformat": 4,
  "nbformat_minor": 0,
  "metadata": {
    "colab": {
      "provenance": []
    },
    "kernelspec": {
      "name": "python3",
      "display_name": "Python 3"
    },
    "language_info": {
      "name": "python"
    }
  },
  "cells": [
    {
      "cell_type": "code",
      "source": [
        "#DAA (1) fibonacci series\n",
        "\n",
        "n_terms = int(input (\"How many terms the user wants to print? \"))\n",
        "\n",
        "# First two terms\n",
        "n_1 = 0\n",
        "n_2 = 1\n",
        "count = 0\n",
        "\n",
        "# Now, we will check if the number of terms is valid or not\n",
        "if n_terms <= 0:\n",
        "  print (\"Please enter a positive integer, the given number is not valid\")\n",
        "# if there is only one term, it will return n_1\n",
        "elif n_terms == 1:\n",
        "  print (\"The Fibonacci sequence of the numbers up to\", n_terms, \": \")\n",
        "  print(n_1)\n",
        "# Then we will generate Fibonacci sequence of number\n",
        "else:\n",
        "  print (\"The fibonacci sequence of the numbers is:\")\n",
        "  while count < n_terms:\n",
        "    print(n_1)\n",
        "    nth = n_1 + n_2\n",
        "    # At last, we will update values\n",
        "    n_1 = n_2\n",
        "    n_2 = nth\n",
        "    count += 1"
      ],
      "metadata": {
        "colab": {
          "base_uri": "https://localhost:8080/"
        },
        "id": "FDJBMwoxh64T",
        "outputId": "8f8d3b50-c3d6-485e-f23f-f93bc3cad0c2"
      },
      "execution_count": 7,
      "outputs": [
        {
          "output_type": "stream",
          "name": "stdout",
          "text": [
            "How many terms the user wants to print? 5\n",
            "The fibonacci sequence of the numbers is:\n",
            "0\n",
            "1\n",
            "1\n",
            "2\n",
            "3\n"
          ]
        }
      ]
    },
    {
      "cell_type": "code",
      "source": [
        "#DAA  (2) jobs scheduling\n",
        "\n",
        "\n",
        "def printJobScheduling(arr, t):\n",
        "\n",
        "\t# length of array\n",
        "\tn = len(arr)\n",
        "\n",
        "\t# Sort all jobs according to\n",
        "\t# decreasing order of profit\n",
        "\tfor i in range(n):\n",
        "\t\tfor j in range(n - 1 - i):\n",
        "\t\t\tif arr[j][2] < arr[j + 1][2]:\n",
        "\t\t\t\tarr[j], arr[j + 1] = arr[j + 1], arr[j]\n",
        "\n",
        "\t# To keep track of free time slots\n",
        "\tresult = [False] * t\n",
        "\n",
        "\t# To store result (Sequence of jobs)\n",
        "\tjob = ['-1'] * t\n",
        "\n",
        "\t# Iterate through all given jobs\n",
        "\tfor i in range(len(arr)):\n",
        "\n",
        "\t\t# Find a free slot for this job\n",
        "\t\t# (Note that we start from the\n",
        "\t\t# last possible slot)\n",
        "\t\tfor j in range(min(t - 1, arr[i][1] - 1), -1, -1):\n",
        "\n",
        "\t\t\t# Free slot found\n",
        "\t\t\tif result[j] is False:\n",
        "\t\t\t\tresult[j] = True\n",
        "\t\t\t\tjob[j] = arr[i][0]\n",
        "\t\t\t\tbreak\n",
        "\n",
        "\t# print the sequence\n",
        "\tprint(job)\n",
        "\n",
        "\n",
        "# Driver's Code\n",
        "if __name__ == '__main__':\n",
        "\tarr = [['a', 2, 100], # Job Array\n",
        "\t\t\t['b', 1, 19],\n",
        "\t\t\t['c', 2, 27],\n",
        "\t\t\t['d', 1, 25],\n",
        "\t\t\t['e', 3, 15]]\n",
        "\n",
        "\n",
        "\tprint(\"Following is maximum profit sequence of jobs\")\n",
        "\n",
        "\t# Function Call\n",
        "\tprintJobScheduling(arr, 3)\n",
        "\n",
        "# This code is contributed\n",
        "# by Anubhav Raj Singh\n"
      ],
      "metadata": {
        "colab": {
          "base_uri": "https://localhost:8080/"
        },
        "id": "-Jkf2OR_hALS",
        "outputId": "49e66a6e-cdf0-484e-a737-5a2e7ecac540"
      },
      "execution_count": 6,
      "outputs": [
        {
          "output_type": "stream",
          "name": "stdout",
          "text": [
            "Following is maximum profit sequence of jobs\n",
            "['c', 'a', 'e']\n"
          ]
        }
      ]
    },
    {
      "cell_type": "code",
      "execution_count": 2,
      "metadata": {
        "colab": {
          "base_uri": "https://localhost:8080/"
        },
        "id": "h_YLZIn7e6S_",
        "outputId": "e643d606-4afa-4e9f-d265-562b55d04cf0"
      },
      "outputs": [
        {
          "output_type": "stream",
          "name": "stdout",
          "text": [
            "178\n"
          ]
        }
      ],
      "source": [
        "#DAA (3) fractional knapsack problem\n",
        "\n",
        "class Solution:\n",
        "\n",
        "  def solve(self, weights, values, capacity):\n",
        "    res = 0\n",
        "    for pair in sorted(zip(weights, values), key=lambda x: - x[1]/x[0]):\n",
        "      if not bool(capacity):\n",
        "        break\n",
        "      if pair[0] > capacity:\n",
        "        res += int(pair[1] / (pair[0] / capacity))\n",
        "        capacity = 0\n",
        "      elif pair[0] <= capacity:\n",
        "        res += pair[1]\n",
        "        capacity -= pair[0]\n",
        "    return int(res)\n",
        "ob = Solution()\n",
        "weights = [6, 7, 3]\n",
        "values = [110, 120, 2]\n",
        "capacity = 10\n",
        "print(ob.solve(weights, values, capacity))"
      ]
    },
    {
      "cell_type": "code",
      "source": [
        "#DAA (4). 0/1 knapsack\n",
        "\n",
        "def knapSack(W, wt, val, n):\n",
        "  #Base Case\n",
        "  if n == 0 or W == 0:\n",
        "    return 0\n",
        "  if (wt[n-1] > W):\n",
        "    return knapSack(W, wt, val, n-1)\n",
        "  else:\n",
        "    return max(val[n-1] + knapSack(W-wt[n-1], wt, val, n-1),knapSack(W, wt, val, n-1))\n",
        "val = [60, 100, 120]\n",
        "wt = [10, 20, 30]\n",
        "W = 50\n",
        "n = len(val)\n",
        "k= knapSack(W, wt, val, n)\n",
        "print(k)"
      ],
      "metadata": {
        "colab": {
          "base_uri": "https://localhost:8080/"
        },
        "id": "yGkYojC3fWIp",
        "outputId": "f211a8fa-05a1-4803-d49f-b3fa498193ab"
      },
      "execution_count": 5,
      "outputs": [
        {
          "output_type": "stream",
          "name": "stdout",
          "text": [
            "220\n"
          ]
        }
      ]
    },
    {
      "cell_type": "code",
      "source": [],
      "metadata": {
        "id": "vLkNEOvYgaeN"
      },
      "execution_count": null,
      "outputs": []
    }
  ]
}