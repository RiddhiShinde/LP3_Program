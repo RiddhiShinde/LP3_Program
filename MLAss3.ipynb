{
  "nbformat": 4,
  "nbformat_minor": 0,
  "metadata": {
    "colab": {
      "provenance": [],
      "authorship_tag": "ABX9TyNOBjxzyEW/e66kbgaFDqyt",
      "include_colab_link": true
    },
    "kernelspec": {
      "name": "python3",
      "display_name": "Python 3"
    },
    "language_info": {
      "name": "python"
    }
  },
  "cells": [
    {
      "cell_type": "markdown",
      "metadata": {
        "id": "view-in-github",
        "colab_type": "text"
      },
      "source": [
        "<a href=\"https://colab.research.google.com/github/RiddhiShinde/LP2_Program/blob/main/MLAss3.ipynb\" target=\"_parent\"><img src=\"https://colab.research.google.com/assets/colab-badge.svg\" alt=\"Open In Colab\"/></a>"
      ]
    },
    {
      "cell_type": "code",
      "execution_count": 3,
      "metadata": {
        "id": "m4puMsq8rn6_"
      },
      "outputs": [],
      "source": [
        "import pandas as pd\n",
        "import numpy as np"
      ]
    },
    {
      "cell_type": "code",
      "source": [
        "df=pd.read_csv('https://raw.githubusercontent.com/RiddhiShinde/LP2_Program/main/Churn_Modelling.csv')"
      ],
      "metadata": {
        "id": "2fqT6-iiromw"
      },
      "execution_count": 4,
      "outputs": []
    },
    {
      "cell_type": "code",
      "source": [
        "df.shape"
      ],
      "metadata": {
        "colab": {
          "base_uri": "https://localhost:8080/"
        },
        "id": "huVewq1Vr8ct",
        "outputId": "e6545571-b4a0-4915-b737-d903383809ac"
      },
      "execution_count": 5,
      "outputs": [
        {
          "output_type": "execute_result",
          "data": {
            "text/plain": [
              "(10000, 14)"
            ]
          },
          "metadata": {},
          "execution_count": 5
        }
      ]
    },
    {
      "cell_type": "code",
      "source": [
        "df.info"
      ],
      "metadata": {
        "colab": {
          "base_uri": "https://localhost:8080/"
        },
        "id": "xZJVODnTsDBQ",
        "outputId": "e2d8e7db-9dc8-4a82-b6f7-e801914dbd89"
      },
      "execution_count": 6,
      "outputs": [
        {
          "output_type": "execute_result",
          "data": {
            "text/plain": [
              "<bound method DataFrame.info of       RowNumber  CustomerId    Surname  CreditScore Geography  Gender  Age  \\\n",
              "0             1    15634602   Hargrave          619    France  Female   42   \n",
              "1             2    15647311       Hill          608     Spain  Female   41   \n",
              "2             3    15619304       Onio          502    France  Female   42   \n",
              "3             4    15701354       Boni          699    France  Female   39   \n",
              "4             5    15737888   Mitchell          850     Spain  Female   43   \n",
              "...         ...         ...        ...          ...       ...     ...  ...   \n",
              "9995       9996    15606229   Obijiaku          771    France    Male   39   \n",
              "9996       9997    15569892  Johnstone          516    France    Male   35   \n",
              "9997       9998    15584532        Liu          709    France  Female   36   \n",
              "9998       9999    15682355  Sabbatini          772   Germany    Male   42   \n",
              "9999      10000    15628319     Walker          792    France  Female   28   \n",
              "\n",
              "      Tenure    Balance  NumOfProducts  HasCrCard  IsActiveMember  \\\n",
              "0          2       0.00              1          1               1   \n",
              "1          1   83807.86              1          0               1   \n",
              "2          8  159660.80              3          1               0   \n",
              "3          1       0.00              2          0               0   \n",
              "4          2  125510.82              1          1               1   \n",
              "...      ...        ...            ...        ...             ...   \n",
              "9995       5       0.00              2          1               0   \n",
              "9996      10   57369.61              1          1               1   \n",
              "9997       7       0.00              1          0               1   \n",
              "9998       3   75075.31              2          1               0   \n",
              "9999       4  130142.79              1          1               0   \n",
              "\n",
              "      EstimatedSalary  Exited  \n",
              "0           101348.88       1  \n",
              "1           112542.58       0  \n",
              "2           113931.57       1  \n",
              "3            93826.63       0  \n",
              "4            79084.10       0  \n",
              "...               ...     ...  \n",
              "9995         96270.64       0  \n",
              "9996        101699.77       0  \n",
              "9997         42085.58       1  \n",
              "9998         92888.52       1  \n",
              "9999         38190.78       0  \n",
              "\n",
              "[10000 rows x 14 columns]>"
            ]
          },
          "metadata": {},
          "execution_count": 6
        }
      ]
    },
    {
      "cell_type": "code",
      "source": [
        "df.describe"
      ],
      "metadata": {
        "colab": {
          "base_uri": "https://localhost:8080/"
        },
        "id": "V45MJAhQsEdU",
        "outputId": "091ee009-26f7-4d63-b8e2-4c58e1700039"
      },
      "execution_count": 7,
      "outputs": [
        {
          "output_type": "execute_result",
          "data": {
            "text/plain": [
              "<bound method NDFrame.describe of       RowNumber  CustomerId    Surname  CreditScore Geography  Gender  Age  \\\n",
              "0             1    15634602   Hargrave          619    France  Female   42   \n",
              "1             2    15647311       Hill          608     Spain  Female   41   \n",
              "2             3    15619304       Onio          502    France  Female   42   \n",
              "3             4    15701354       Boni          699    France  Female   39   \n",
              "4             5    15737888   Mitchell          850     Spain  Female   43   \n",
              "...         ...         ...        ...          ...       ...     ...  ...   \n",
              "9995       9996    15606229   Obijiaku          771    France    Male   39   \n",
              "9996       9997    15569892  Johnstone          516    France    Male   35   \n",
              "9997       9998    15584532        Liu          709    France  Female   36   \n",
              "9998       9999    15682355  Sabbatini          772   Germany    Male   42   \n",
              "9999      10000    15628319     Walker          792    France  Female   28   \n",
              "\n",
              "      Tenure    Balance  NumOfProducts  HasCrCard  IsActiveMember  \\\n",
              "0          2       0.00              1          1               1   \n",
              "1          1   83807.86              1          0               1   \n",
              "2          8  159660.80              3          1               0   \n",
              "3          1       0.00              2          0               0   \n",
              "4          2  125510.82              1          1               1   \n",
              "...      ...        ...            ...        ...             ...   \n",
              "9995       5       0.00              2          1               0   \n",
              "9996      10   57369.61              1          1               1   \n",
              "9997       7       0.00              1          0               1   \n",
              "9998       3   75075.31              2          1               0   \n",
              "9999       4  130142.79              1          1               0   \n",
              "\n",
              "      EstimatedSalary  Exited  \n",
              "0           101348.88       1  \n",
              "1           112542.58       0  \n",
              "2           113931.57       1  \n",
              "3            93826.63       0  \n",
              "4            79084.10       0  \n",
              "...               ...     ...  \n",
              "9995         96270.64       0  \n",
              "9996        101699.77       0  \n",
              "9997         42085.58       1  \n",
              "9998         92888.52       1  \n",
              "9999         38190.78       0  \n",
              "\n",
              "[10000 rows x 14 columns]>"
            ]
          },
          "metadata": {},
          "execution_count": 7
        }
      ]
    },
    {
      "cell_type": "code",
      "source": [
        "df.head"
      ],
      "metadata": {
        "colab": {
          "base_uri": "https://localhost:8080/"
        },
        "id": "Cj09DT03sIlG",
        "outputId": "918c95e6-aec2-46e2-adbb-f87a3d29b1a5"
      },
      "execution_count": 8,
      "outputs": [
        {
          "output_type": "execute_result",
          "data": {
            "text/plain": [
              "<bound method NDFrame.head of       RowNumber  CustomerId    Surname  CreditScore Geography  Gender  Age  \\\n",
              "0             1    15634602   Hargrave          619    France  Female   42   \n",
              "1             2    15647311       Hill          608     Spain  Female   41   \n",
              "2             3    15619304       Onio          502    France  Female   42   \n",
              "3             4    15701354       Boni          699    France  Female   39   \n",
              "4             5    15737888   Mitchell          850     Spain  Female   43   \n",
              "...         ...         ...        ...          ...       ...     ...  ...   \n",
              "9995       9996    15606229   Obijiaku          771    France    Male   39   \n",
              "9996       9997    15569892  Johnstone          516    France    Male   35   \n",
              "9997       9998    15584532        Liu          709    France  Female   36   \n",
              "9998       9999    15682355  Sabbatini          772   Germany    Male   42   \n",
              "9999      10000    15628319     Walker          792    France  Female   28   \n",
              "\n",
              "      Tenure    Balance  NumOfProducts  HasCrCard  IsActiveMember  \\\n",
              "0          2       0.00              1          1               1   \n",
              "1          1   83807.86              1          0               1   \n",
              "2          8  159660.80              3          1               0   \n",
              "3          1       0.00              2          0               0   \n",
              "4          2  125510.82              1          1               1   \n",
              "...      ...        ...            ...        ...             ...   \n",
              "9995       5       0.00              2          1               0   \n",
              "9996      10   57369.61              1          1               1   \n",
              "9997       7       0.00              1          0               1   \n",
              "9998       3   75075.31              2          1               0   \n",
              "9999       4  130142.79              1          1               0   \n",
              "\n",
              "      EstimatedSalary  Exited  \n",
              "0           101348.88       1  \n",
              "1           112542.58       0  \n",
              "2           113931.57       1  \n",
              "3            93826.63       0  \n",
              "4            79084.10       0  \n",
              "...               ...     ...  \n",
              "9995         96270.64       0  \n",
              "9996        101699.77       0  \n",
              "9997         42085.58       1  \n",
              "9998         92888.52       1  \n",
              "9999         38190.78       0  \n",
              "\n",
              "[10000 rows x 14 columns]>"
            ]
          },
          "metadata": {},
          "execution_count": 8
        }
      ]
    },
    {
      "cell_type": "code",
      "source": [
        "df.duplicated().sum()"
      ],
      "metadata": {
        "colab": {
          "base_uri": "https://localhost:8080/"
        },
        "id": "pjjYTny-sPab",
        "outputId": "5f787b7c-8c89-430a-f40b-c178d0da7b1c"
      },
      "execution_count": 9,
      "outputs": [
        {
          "output_type": "execute_result",
          "data": {
            "text/plain": [
              "0"
            ]
          },
          "metadata": {},
          "execution_count": 9
        }
      ]
    },
    {
      "cell_type": "code",
      "source": [
        "df.isna().sum()"
      ],
      "metadata": {
        "colab": {
          "base_uri": "https://localhost:8080/"
        },
        "id": "iyUJPRzwsWeL",
        "outputId": "803ab2f8-ead0-40af-a5d9-ed43a7ce2042"
      },
      "execution_count": 10,
      "outputs": [
        {
          "output_type": "execute_result",
          "data": {
            "text/plain": [
              "RowNumber          0\n",
              "CustomerId         0\n",
              "Surname            0\n",
              "CreditScore        0\n",
              "Geography          0\n",
              "Gender             0\n",
              "Age                0\n",
              "Tenure             0\n",
              "Balance            0\n",
              "NumOfProducts      0\n",
              "HasCrCard          0\n",
              "IsActiveMember     0\n",
              "EstimatedSalary    0\n",
              "Exited             0\n",
              "dtype: int64"
            ]
          },
          "metadata": {},
          "execution_count": 10
        }
      ]
    },
    {
      "cell_type": "code",
      "source": [
        "df.drop(['CustomerId','Surname'], axis=1, inplace=True)"
      ],
      "metadata": {
        "id": "fznpb2disb-P"
      },
      "execution_count": 12,
      "outputs": []
    },
    {
      "cell_type": "code",
      "source": [
        "x= df[['CreditScore', 'Age', 'Tenure', 'Balance', 'NumOfProducts', 'HasCrCard', 'IsActiveMember', 'EstimatedSalary']]\n",
        "y= df['Exited']"
      ],
      "metadata": {
        "id": "wRkNefHSttwZ"
      },
      "execution_count": 46,
      "outputs": []
    },
    {
      "cell_type": "code",
      "source": [
        "from sklearn.model_selection import train_test_split\n",
        "x_train, x_test, y_train, y_test= train_test_split(x,y, test_size=0.2, random_state=0)"
      ],
      "metadata": {
        "id": "udzNfS55szhi"
      },
      "execution_count": 47,
      "outputs": []
    },
    {
      "cell_type": "code",
      "source": [
        "from sklearn.preprocessing import  StandardScaler\n",
        "sc= StandardScaler()"
      ],
      "metadata": {
        "id": "ombnfUKptZBu"
      },
      "execution_count": 48,
      "outputs": []
    },
    {
      "cell_type": "code",
      "source": [
        "x_scaled= sc.fit_transform(x_train)"
      ],
      "metadata": {
        "id": "hmm9-FsnuQ-8"
      },
      "execution_count": 50,
      "outputs": []
    },
    {
      "cell_type": "code",
      "source": [
        "x_scaled"
      ],
      "metadata": {
        "colab": {
          "base_uri": "https://localhost:8080/"
        },
        "id": "xgFhN6qYyewS",
        "outputId": "fb513737-b99d-4860-8416-44c5aa3241e1"
      },
      "execution_count": 51,
      "outputs": [
        {
          "output_type": "execute_result",
          "data": {
            "text/plain": [
              "array([[ 0.16958176, -0.46460796,  0.00666099, ...,  0.64259497,\n",
              "        -1.03227043,  1.10643166],\n",
              "       [-2.30455945,  0.30102557, -1.37744033, ...,  0.64259497,\n",
              "         0.9687384 , -0.74866447],\n",
              "       [-1.19119591, -0.94312892, -1.031415  , ...,  0.64259497,\n",
              "        -1.03227043,  1.48533467],\n",
              "       ...,\n",
              "       [ 0.9015152 , -0.36890377,  0.00666099, ...,  0.64259497,\n",
              "        -1.03227043,  1.41231994],\n",
              "       [-0.62420521, -0.08179119,  1.39076231, ...,  0.64259497,\n",
              "         0.9687384 ,  0.84432121],\n",
              "       [-0.28401079,  0.87525072, -1.37744033, ...,  0.64259497,\n",
              "        -1.03227043,  0.32472465]])"
            ]
          },
          "metadata": {},
          "execution_count": 51
        }
      ]
    },
    {
      "cell_type": "code",
      "source": [
        "#creating artificial neural network :\n",
        "\n",
        "import keras \n",
        "import sys\n",
        "from keras.models import Sequential #to initialize NN\n",
        "from keras.layers import Dense # to create layers in NN"
      ],
      "metadata": {
        "id": "jk9GkwuDuyK_"
      },
      "execution_count": 53,
      "outputs": []
    },
    {
      "cell_type": "code",
      "source": [
        "#initialize ANN- define as sequence of layers\n",
        "\n",
        "classifier = Sequential()"
      ],
      "metadata": {
        "id": "ODIrOMr3u1PB"
      },
      "execution_count": 54,
      "outputs": []
    },
    {
      "cell_type": "code",
      "source": [
        "#adding input layer\n",
        "\n",
        "classifier.add(Dense(units = 6, kernel_initializer= 'uniform', activation = 'relu'))"
      ],
      "metadata": {
        "id": "cxE6RPzCu6H4"
      },
      "execution_count": 58,
      "outputs": []
    },
    {
      "cell_type": "code",
      "source": [
        "#adding hidden layer\n",
        "\n",
        "classifier.add(Dense(units= 6, kernel_initializer ='uniform', activation = 'relu'))"
      ],
      "metadata": {
        "id": "o07R23rDv5pc"
      },
      "execution_count": 59,
      "outputs": []
    },
    {
      "cell_type": "code",
      "source": [
        "#adding output layer \n",
        "\n",
        "classifier.add(Dense(units=1, kernel_initializer= 'uniform', activation= 'sigmoid'))"
      ],
      "metadata": {
        "id": "TLBspeLEv-en"
      },
      "execution_count": 61,
      "outputs": []
    },
    {
      "cell_type": "code",
      "source": [
        "classifier.compile(optimizer= 'adam', loss='binary_crossentropy',metrics= [\"accuracy\"])\n",
        "#or\n",
        "classifier.compile(optimizer= 'adam', loss='mean_squared_error',metrics= [\"accuracy\"])"
      ],
      "metadata": {
        "id": "nx9_0Yli7EXf"
      },
      "execution_count": 63,
      "outputs": []
    },
    {
      "cell_type": "code",
      "source": [
        "#fitting ANN to training dataset\n",
        "\n",
        "classifier.fit(x_train, y_train, batch_size= 10, epochs=100)"
      ],
      "metadata": {
        "colab": {
          "base_uri": "https://localhost:8080/"
        },
        "id": "BQtE0hnx7oZ1",
        "outputId": "e47486fd-4883-46fc-e4a6-b75270f0c03a"
      },
      "execution_count": 64,
      "outputs": [
        {
          "output_type": "stream",
          "name": "stdout",
          "text": [
            "Epoch 1/100\n",
            "800/800 [==============================] - 2s 2ms/step - loss: 0.1625 - accuracy: 0.7956\n",
            "Epoch 2/100\n",
            "800/800 [==============================] - 1s 2ms/step - loss: 0.1385 - accuracy: 0.7960\n",
            "Epoch 3/100\n",
            "800/800 [==============================] - 1s 2ms/step - loss: 0.1355 - accuracy: 0.8059\n",
            "Epoch 4/100\n",
            "800/800 [==============================] - 1s 2ms/step - loss: 0.1339 - accuracy: 0.8259\n",
            "Epoch 5/100\n",
            "800/800 [==============================] - 1s 2ms/step - loss: 0.1326 - accuracy: 0.8289\n",
            "Epoch 6/100\n",
            "800/800 [==============================] - 1s 2ms/step - loss: 0.1318 - accuracy: 0.8301\n",
            "Epoch 7/100\n",
            "800/800 [==============================] - 1s 2ms/step - loss: 0.1311 - accuracy: 0.8299\n",
            "Epoch 8/100\n",
            "800/800 [==============================] - 1s 2ms/step - loss: 0.1305 - accuracy: 0.8314\n",
            "Epoch 9/100\n",
            "800/800 [==============================] - 1s 2ms/step - loss: 0.1300 - accuracy: 0.8307\n",
            "Epoch 10/100\n",
            "800/800 [==============================] - 1s 2ms/step - loss: 0.1298 - accuracy: 0.8301\n",
            "Epoch 11/100\n",
            "800/800 [==============================] - 1s 2ms/step - loss: 0.1294 - accuracy: 0.8307\n",
            "Epoch 12/100\n",
            "800/800 [==============================] - 1s 2ms/step - loss: 0.1292 - accuracy: 0.8310\n",
            "Epoch 13/100\n",
            "800/800 [==============================] - 1s 2ms/step - loss: 0.1289 - accuracy: 0.8314\n",
            "Epoch 14/100\n",
            "800/800 [==============================] - 1s 2ms/step - loss: 0.1289 - accuracy: 0.8305\n",
            "Epoch 15/100\n",
            "800/800 [==============================] - 1s 2ms/step - loss: 0.1287 - accuracy: 0.8305\n",
            "Epoch 16/100\n",
            "800/800 [==============================] - 1s 2ms/step - loss: 0.1286 - accuracy: 0.8314\n",
            "Epoch 17/100\n",
            "800/800 [==============================] - 1s 2ms/step - loss: 0.1284 - accuracy: 0.8321\n",
            "Epoch 18/100\n",
            "800/800 [==============================] - 1s 2ms/step - loss: 0.1284 - accuracy: 0.8315\n",
            "Epoch 19/100\n",
            "800/800 [==============================] - 1s 2ms/step - loss: 0.1283 - accuracy: 0.8315\n",
            "Epoch 20/100\n",
            "800/800 [==============================] - 1s 2ms/step - loss: 0.1282 - accuracy: 0.8314\n",
            "Epoch 21/100\n",
            "800/800 [==============================] - 1s 2ms/step - loss: 0.1282 - accuracy: 0.8314\n",
            "Epoch 22/100\n",
            "800/800 [==============================] - 1s 2ms/step - loss: 0.1281 - accuracy: 0.8309\n",
            "Epoch 23/100\n",
            "800/800 [==============================] - 1s 2ms/step - loss: 0.1280 - accuracy: 0.8313\n",
            "Epoch 24/100\n",
            "800/800 [==============================] - 1s 2ms/step - loss: 0.1280 - accuracy: 0.8334\n",
            "Epoch 25/100\n",
            "800/800 [==============================] - 2s 2ms/step - loss: 0.1280 - accuracy: 0.8296\n",
            "Epoch 26/100\n",
            "800/800 [==============================] - 2s 2ms/step - loss: 0.1280 - accuracy: 0.8324\n",
            "Epoch 27/100\n",
            "800/800 [==============================] - 1s 2ms/step - loss: 0.1280 - accuracy: 0.8315\n",
            "Epoch 28/100\n",
            "800/800 [==============================] - 1s 2ms/step - loss: 0.1280 - accuracy: 0.8306\n",
            "Epoch 29/100\n",
            "800/800 [==============================] - 1s 2ms/step - loss: 0.1279 - accuracy: 0.8322\n",
            "Epoch 30/100\n",
            "800/800 [==============================] - 1s 2ms/step - loss: 0.1278 - accuracy: 0.8315\n",
            "Epoch 31/100\n",
            "800/800 [==============================] - 1s 2ms/step - loss: 0.1279 - accuracy: 0.8301\n",
            "Epoch 32/100\n",
            "800/800 [==============================] - 1s 2ms/step - loss: 0.1277 - accuracy: 0.8309\n",
            "Epoch 33/100\n",
            "800/800 [==============================] - 1s 2ms/step - loss: 0.1279 - accuracy: 0.8305\n",
            "Epoch 34/100\n",
            "800/800 [==============================] - 1s 2ms/step - loss: 0.1276 - accuracy: 0.8317\n",
            "Epoch 35/100\n",
            "800/800 [==============================] - 1s 2ms/step - loss: 0.1277 - accuracy: 0.8322\n",
            "Epoch 36/100\n",
            "800/800 [==============================] - 1s 2ms/step - loss: 0.1279 - accuracy: 0.8311\n",
            "Epoch 37/100\n",
            "800/800 [==============================] - 1s 2ms/step - loss: 0.1277 - accuracy: 0.8320\n",
            "Epoch 38/100\n",
            "800/800 [==============================] - 1s 2ms/step - loss: 0.1277 - accuracy: 0.8317\n",
            "Epoch 39/100\n",
            "800/800 [==============================] - 1s 2ms/step - loss: 0.1277 - accuracy: 0.8314\n",
            "Epoch 40/100\n",
            "800/800 [==============================] - 1s 2ms/step - loss: 0.1278 - accuracy: 0.8320\n",
            "Epoch 41/100\n",
            "800/800 [==============================] - 1s 2ms/step - loss: 0.1276 - accuracy: 0.8314\n",
            "Epoch 42/100\n",
            "800/800 [==============================] - 1s 2ms/step - loss: 0.1277 - accuracy: 0.8316\n",
            "Epoch 43/100\n",
            "800/800 [==============================] - 1s 2ms/step - loss: 0.1276 - accuracy: 0.8322\n",
            "Epoch 44/100\n",
            "800/800 [==============================] - 1s 2ms/step - loss: 0.1276 - accuracy: 0.8315\n",
            "Epoch 45/100\n",
            "800/800 [==============================] - 1s 2ms/step - loss: 0.1275 - accuracy: 0.8304\n",
            "Epoch 46/100\n",
            "800/800 [==============================] - 1s 2ms/step - loss: 0.1276 - accuracy: 0.8317\n",
            "Epoch 47/100\n",
            "800/800 [==============================] - 1s 2ms/step - loss: 0.1277 - accuracy: 0.8329\n",
            "Epoch 48/100\n",
            "800/800 [==============================] - 1s 2ms/step - loss: 0.1277 - accuracy: 0.8321\n",
            "Epoch 49/100\n",
            "800/800 [==============================] - 1s 2ms/step - loss: 0.1276 - accuracy: 0.8311\n",
            "Epoch 50/100\n",
            "800/800 [==============================] - 1s 2ms/step - loss: 0.1277 - accuracy: 0.8326\n",
            "Epoch 51/100\n",
            "800/800 [==============================] - 1s 2ms/step - loss: 0.1276 - accuracy: 0.8322\n",
            "Epoch 52/100\n",
            "800/800 [==============================] - 1s 2ms/step - loss: 0.1276 - accuracy: 0.8326\n",
            "Epoch 53/100\n",
            "800/800 [==============================] - 1s 2ms/step - loss: 0.1276 - accuracy: 0.8294\n",
            "Epoch 54/100\n",
            "800/800 [==============================] - 1s 2ms/step - loss: 0.1275 - accuracy: 0.8320\n",
            "Epoch 55/100\n",
            "800/800 [==============================] - 1s 2ms/step - loss: 0.1276 - accuracy: 0.8324\n",
            "Epoch 56/100\n",
            "800/800 [==============================] - 1s 2ms/step - loss: 0.1275 - accuracy: 0.8314\n",
            "Epoch 57/100\n",
            "800/800 [==============================] - 1s 2ms/step - loss: 0.1273 - accuracy: 0.8309\n",
            "Epoch 58/100\n",
            "800/800 [==============================] - 1s 2ms/step - loss: 0.1274 - accuracy: 0.8320\n",
            "Epoch 59/100\n",
            "800/800 [==============================] - 1s 2ms/step - loss: 0.1275 - accuracy: 0.8313\n",
            "Epoch 60/100\n",
            "800/800 [==============================] - 1s 2ms/step - loss: 0.1276 - accuracy: 0.8313\n",
            "Epoch 61/100\n",
            "800/800 [==============================] - 1s 2ms/step - loss: 0.1275 - accuracy: 0.8305\n",
            "Epoch 62/100\n",
            "800/800 [==============================] - 1s 2ms/step - loss: 0.1274 - accuracy: 0.8313\n",
            "Epoch 63/100\n",
            "800/800 [==============================] - 1s 2ms/step - loss: 0.1275 - accuracy: 0.8314\n",
            "Epoch 64/100\n",
            "800/800 [==============================] - 1s 2ms/step - loss: 0.1274 - accuracy: 0.8326\n",
            "Epoch 65/100\n",
            "800/800 [==============================] - 1s 2ms/step - loss: 0.1274 - accuracy: 0.8314\n",
            "Epoch 66/100\n",
            "800/800 [==============================] - 1s 2ms/step - loss: 0.1274 - accuracy: 0.8316\n",
            "Epoch 67/100\n",
            "800/800 [==============================] - 1s 2ms/step - loss: 0.1275 - accuracy: 0.8316\n",
            "Epoch 68/100\n",
            "800/800 [==============================] - 2s 3ms/step - loss: 0.1273 - accuracy: 0.8324\n",
            "Epoch 69/100\n",
            "800/800 [==============================] - 6s 7ms/step - loss: 0.1275 - accuracy: 0.8321\n",
            "Epoch 70/100\n",
            "800/800 [==============================] - 1s 2ms/step - loss: 0.1274 - accuracy: 0.8328\n",
            "Epoch 71/100\n",
            "800/800 [==============================] - 1s 2ms/step - loss: 0.1274 - accuracy: 0.8296\n",
            "Epoch 72/100\n",
            "800/800 [==============================] - 1s 2ms/step - loss: 0.1275 - accuracy: 0.8317\n",
            "Epoch 73/100\n",
            "800/800 [==============================] - 1s 2ms/step - loss: 0.1275 - accuracy: 0.8307\n",
            "Epoch 74/100\n",
            "800/800 [==============================] - 1s 2ms/step - loss: 0.1275 - accuracy: 0.8309\n",
            "Epoch 75/100\n",
            "800/800 [==============================] - 1s 2ms/step - loss: 0.1273 - accuracy: 0.8329\n",
            "Epoch 76/100\n",
            "800/800 [==============================] - 1s 2ms/step - loss: 0.1274 - accuracy: 0.8314\n",
            "Epoch 77/100\n",
            "800/800 [==============================] - 1s 2ms/step - loss: 0.1273 - accuracy: 0.8309\n",
            "Epoch 78/100\n",
            "800/800 [==============================] - 1s 2ms/step - loss: 0.1274 - accuracy: 0.8315\n",
            "Epoch 79/100\n",
            "800/800 [==============================] - 1s 2ms/step - loss: 0.1274 - accuracy: 0.8325\n",
            "Epoch 80/100\n",
            "800/800 [==============================] - 1s 2ms/step - loss: 0.1275 - accuracy: 0.8309\n",
            "Epoch 81/100\n",
            "800/800 [==============================] - 1s 2ms/step - loss: 0.1274 - accuracy: 0.8310\n",
            "Epoch 82/100\n",
            "800/800 [==============================] - 1s 2ms/step - loss: 0.1275 - accuracy: 0.8313\n",
            "Epoch 83/100\n",
            "800/800 [==============================] - 1s 2ms/step - loss: 0.1273 - accuracy: 0.8321\n",
            "Epoch 84/100\n",
            "800/800 [==============================] - 1s 2ms/step - loss: 0.1273 - accuracy: 0.8329\n",
            "Epoch 85/100\n",
            "800/800 [==============================] - 1s 2ms/step - loss: 0.1274 - accuracy: 0.8324\n",
            "Epoch 86/100\n",
            "800/800 [==============================] - 2s 2ms/step - loss: 0.1273 - accuracy: 0.8314\n",
            "Epoch 87/100\n",
            "800/800 [==============================] - 2s 2ms/step - loss: 0.1273 - accuracy: 0.8305\n",
            "Epoch 88/100\n",
            "800/800 [==============================] - 1s 2ms/step - loss: 0.1273 - accuracy: 0.8320\n",
            "Epoch 89/100\n",
            "800/800 [==============================] - 1s 2ms/step - loss: 0.1273 - accuracy: 0.8316\n",
            "Epoch 90/100\n",
            "800/800 [==============================] - 1s 2ms/step - loss: 0.1273 - accuracy: 0.8314\n",
            "Epoch 91/100\n",
            "800/800 [==============================] - 1s 2ms/step - loss: 0.1274 - accuracy: 0.8317\n",
            "Epoch 92/100\n",
            "800/800 [==============================] - 1s 2ms/step - loss: 0.1273 - accuracy: 0.8320\n",
            "Epoch 93/100\n",
            "800/800 [==============================] - 1s 2ms/step - loss: 0.1272 - accuracy: 0.8315\n",
            "Epoch 94/100\n",
            "800/800 [==============================] - 1s 2ms/step - loss: 0.1273 - accuracy: 0.8326\n",
            "Epoch 95/100\n",
            "800/800 [==============================] - 1s 2ms/step - loss: 0.1272 - accuracy: 0.8326\n",
            "Epoch 96/100\n",
            "800/800 [==============================] - 1s 2ms/step - loss: 0.1273 - accuracy: 0.8317\n",
            "Epoch 97/100\n",
            "800/800 [==============================] - 1s 2ms/step - loss: 0.1272 - accuracy: 0.8320\n",
            "Epoch 98/100\n",
            "800/800 [==============================] - 1s 2ms/step - loss: 0.1271 - accuracy: 0.8328\n",
            "Epoch 99/100\n",
            "800/800 [==============================] - 1s 2ms/step - loss: 0.1272 - accuracy: 0.8328\n",
            "Epoch 100/100\n",
            "800/800 [==============================] - 1s 2ms/step - loss: 0.1271 - accuracy: 0.8329\n"
          ]
        },
        {
          "output_type": "execute_result",
          "data": {
            "text/plain": [
              "<keras.callbacks.History at 0x7f3fd4eede50>"
            ]
          },
          "metadata": {},
          "execution_count": 64
        }
      ]
    },
    {
      "cell_type": "code",
      "source": [
        "y_pred=classifier.predict(x_test).astype(int)"
      ],
      "metadata": {
        "colab": {
          "base_uri": "https://localhost:8080/"
        },
        "id": "_dS2jc_O_CcT",
        "outputId": "c6eea7c5-9bb2-4ca4-acf7-65b0e78a65aa"
      },
      "execution_count": 70,
      "outputs": [
        {
          "output_type": "stream",
          "name": "stdout",
          "text": [
            "63/63 [==============================] - 1s 9ms/step\n"
          ]
        }
      ]
    },
    {
      "cell_type": "code",
      "source": [
        "#making predictions\n",
        "\n",
        "from sklearn.metrics import confusion_matrix\n",
        "cm=confusion_matrix(y_pred, y_test)"
      ],
      "metadata": {
        "id": "ciasNzMw9u8Y"
      },
      "execution_count": 71,
      "outputs": []
    },
    {
      "cell_type": "code",
      "source": [
        "cm"
      ],
      "metadata": {
        "colab": {
          "base_uri": "https://localhost:8080/"
        },
        "id": "r_w8Rhbf_gDC",
        "outputId": "34f5d092-0522-49af-ba8d-c8190878b486"
      },
      "execution_count": 72,
      "outputs": [
        {
          "output_type": "execute_result",
          "data": {
            "text/plain": [
              "array([[1595,  405],\n",
              "       [   0,    0]])"
            ]
          },
          "metadata": {},
          "execution_count": 72
        }
      ]
    }
  ]
}